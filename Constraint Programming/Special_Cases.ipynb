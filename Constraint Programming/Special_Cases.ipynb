{
  "nbformat": 4,
  "nbformat_minor": 0,
  "metadata": {
    "colab": {
      "provenance": []
    },
    "kernelspec": {
      "name": "python3",
      "display_name": "Python 3"
    },
    "language_info": {
      "name": "python"
    }
  },
  "cells": [
    {
      "cell_type": "markdown",
      "source": [
        "# Special Cases - Shoe Manufacturing Example"
      ],
      "metadata": {
        "id": "41sNS20Vwv05"
      }
    },
    {
      "cell_type": "markdown",
      "source": [
        "Suppose that we have three machines to manufacture shoes. The cost to operate each machine is represented as\n",
        "\n",
        "<center>$C_1 = 0.01n_1^2 + 2 n_1$\n",
        "\n",
        "\n",
        "$C_2=6n_2$\n",
        "\n",
        "$C_3=7n_3$</center>\n",
        "\n",
        "where $n_1,n_2,n_3$ are the number of shoes manufactured by each machine. Each machine has a maximum production capacity of 1000 shoes. To facilitate a total production of 2100 shoes, how many shoes should each machine make to minimize the cost?"
      ],
      "metadata": {
        "id": "d23IQrpyw88L"
      }
    },
    {
      "cell_type": "code",
      "source": [
        "! pip install ortools"
      ],
      "metadata": {
        "id": "bqxNf8ZbF43G",
        "colab": {
          "base_uri": "https://localhost:8080/",
          "height": 711
        },
        "collapsed": true,
        "outputId": "4487b6ea-2a49-4afb-8112-6ec3507c163b"
      },
      "execution_count": null,
      "outputs": [
        {
          "output_type": "stream",
          "name": "stdout",
          "text": [
            "Collecting ortools\n",
            "  Downloading ortools-9.14.6206-cp311-cp311-manylinux_2_27_x86_64.manylinux_2_28_x86_64.whl.metadata (3.3 kB)\n",
            "Collecting absl-py>=2.0.0 (from ortools)\n",
            "  Downloading absl_py-2.3.1-py3-none-any.whl.metadata (3.3 kB)\n",
            "Requirement already satisfied: numpy>=1.13.3 in /usr/local/lib/python3.11/dist-packages (from ortools) (2.0.2)\n",
            "Requirement already satisfied: pandas>=2.0.0 in /usr/local/lib/python3.11/dist-packages (from ortools) (2.2.2)\n",
            "Collecting protobuf<6.32,>=6.31.1 (from ortools)\n",
            "  Downloading protobuf-6.31.1-cp39-abi3-manylinux2014_x86_64.whl.metadata (593 bytes)\n",
            "Requirement already satisfied: typing-extensions>=4.12 in /usr/local/lib/python3.11/dist-packages (from ortools) (4.14.1)\n",
            "Requirement already satisfied: immutabledict>=3.0.0 in /usr/local/lib/python3.11/dist-packages (from ortools) (4.2.1)\n",
            "Requirement already satisfied: python-dateutil>=2.8.2 in /usr/local/lib/python3.11/dist-packages (from pandas>=2.0.0->ortools) (2.9.0.post0)\n",
            "Requirement already satisfied: pytz>=2020.1 in /usr/local/lib/python3.11/dist-packages (from pandas>=2.0.0->ortools) (2025.2)\n",
            "Requirement already satisfied: tzdata>=2022.7 in /usr/local/lib/python3.11/dist-packages (from pandas>=2.0.0->ortools) (2025.2)\n",
            "Requirement already satisfied: six>=1.5 in /usr/local/lib/python3.11/dist-packages (from python-dateutil>=2.8.2->pandas>=2.0.0->ortools) (1.17.0)\n",
            "Downloading ortools-9.14.6206-cp311-cp311-manylinux_2_27_x86_64.manylinux_2_28_x86_64.whl (27.7 MB)\n",
            "\u001b[2K   \u001b[90m━━━━━━━━━━━━━━━━━━━━━━━━━━━━━━━━━━━━━━━━\u001b[0m \u001b[32m27.7/27.7 MB\u001b[0m \u001b[31m36.8 MB/s\u001b[0m eta \u001b[36m0:00:00\u001b[0m\n",
            "\u001b[?25hDownloading absl_py-2.3.1-py3-none-any.whl (135 kB)\n",
            "\u001b[2K   \u001b[90m━━━━━━━━━━━━━━━━━━━━━━━━━━━━━━━━━━━━━━━━\u001b[0m \u001b[32m135.8/135.8 kB\u001b[0m \u001b[31m9.4 MB/s\u001b[0m eta \u001b[36m0:00:00\u001b[0m\n",
            "\u001b[?25hDownloading protobuf-6.31.1-cp39-abi3-manylinux2014_x86_64.whl (321 kB)\n",
            "\u001b[2K   \u001b[90m━━━━━━━━━━━━━━━━━━━━━━━━━━━━━━━━━━━━━━━━\u001b[0m \u001b[32m321.1/321.1 kB\u001b[0m \u001b[31m23.3 MB/s\u001b[0m eta \u001b[36m0:00:00\u001b[0m\n",
            "\u001b[?25hInstalling collected packages: protobuf, absl-py, ortools\n",
            "  Attempting uninstall: protobuf\n",
            "    Found existing installation: protobuf 5.29.5\n",
            "    Uninstalling protobuf-5.29.5:\n",
            "      Successfully uninstalled protobuf-5.29.5\n",
            "  Attempting uninstall: absl-py\n",
            "    Found existing installation: absl-py 1.4.0\n",
            "    Uninstalling absl-py-1.4.0:\n",
            "      Successfully uninstalled absl-py-1.4.0\n",
            "\u001b[31mERROR: pip's dependency resolver does not currently take into account all the packages that are installed. This behaviour is the source of the following dependency conflicts.\n",
            "tensorflow 2.19.0 requires protobuf!=4.21.0,!=4.21.1,!=4.21.2,!=4.21.3,!=4.21.4,!=4.21.5,<6.0.0dev,>=3.20.3, but you have protobuf 6.31.1 which is incompatible.\n",
            "grpcio-status 1.71.2 requires protobuf<6.0dev,>=5.26.1, but you have protobuf 6.31.1 which is incompatible.\n",
            "google-ai-generativelanguage 0.6.15 requires protobuf!=4.21.0,!=4.21.1,!=4.21.2,!=4.21.3,!=4.21.4,!=4.21.5,<6.0.0dev,>=3.20.2, but you have protobuf 6.31.1 which is incompatible.\u001b[0m\u001b[31m\n",
            "\u001b[0mSuccessfully installed absl-py-2.3.1 ortools-9.14.6206 protobuf-6.31.1\n"
          ]
        },
        {
          "output_type": "display_data",
          "data": {
            "application/vnd.colab-display-data+json": {
              "pip_warning": {
                "packages": [
                  "google"
                ]
              },
              "id": "49478cb53fad4ca19512fa3daced8335"
            }
          },
          "metadata": {}
        }
      ]
    },
    {
      "cell_type": "code",
      "execution_count": null,
      "metadata": {
        "id": "kg443NJLqxiC"
      },
      "outputs": [],
      "source": [
        "from ortools.sat.python import cp_model"
      ]
    },
    {
      "cell_type": "code",
      "source": [
        "model = cp_model.CpModel()\n",
        "\n",
        "n1 = model.NewIntVar(0, 1000, 'n1')\n",
        "n2 = model.NewIntVar(0, 1000, 'n2')\n",
        "n3 = model.NewIntVar(0, 1000, 'n3')\n",
        "\n",
        "# Introduce a new variable for the squared term and add a constraint\n",
        "n1_squared = model.NewIntVar(0, 1000*1000, 'n1_squared') # Max value is 1000^2\n",
        "model.AddMultiplicationEquality(n1_squared, [n1, n1])\n",
        "\n",
        "model.Add(n1 + n2 + n3 == 2100)\n",
        "\n",
        "# Use the new variable in the objective function\n",
        "model.minimize(0.01*n1_squared + 2*n1 + 6*n2 + 7*n3)\n",
        "\n",
        "solver = cp_model.CpSolver()\n",
        "status = solver.Solve(model)\n",
        "\n",
        "if status == cp_model.OPTIMAL or status == cp_model.FEASIBLE:\n",
        "    print(f'Optimal cost: {solver.ObjectiveValue()}')\n",
        "    print(f'n1: {solver.Value(n1)}')\n",
        "    print(f'n2: {solver.Value(n2)}')\n",
        "    print(f'n3: {solver.Value(n3)}')\n",
        "else:\n",
        "    print('No solution found.')"
      ],
      "metadata": {
        "id": "GZsptGR8GI3t",
        "colab": {
          "base_uri": "https://localhost:8080/"
        },
        "outputId": "747a778c-0759-40e5-e1b3-327008d1c42f"
      },
      "execution_count": null,
      "outputs": [
        {
          "output_type": "stream",
          "name": "stdout",
          "text": [
            "Optimal cost: 13075.0\n",
            "n1: 250\n",
            "n2: 1000\n",
            "n3: 850\n"
          ]
        }
      ]
    },
    {
      "cell_type": "markdown",
      "source": [
        "## Interdependent Costs"
      ],
      "metadata": {
        "id": "Nui0QMjUYNNB"
      }
    },
    {
      "cell_type": "markdown",
      "source": [
        "Suppose that we have three machines to manufacture shoes. The cost to operate each machine is now represented as\n",
        "\n",
        "<center>$C_1 = 0.01n_1^2 + 2 n_1$\n",
        "\n",
        "\n",
        "$C_2=6n_1n_2$\n",
        "\n",
        "$C_3=7n_3$</center>\n",
        "\n",
        "where $n_1,n_2,n_3$ are the number of shoes manufactured by each machine. Each machine has a maximum production capacity of 1000 shoes. To facilitate a total production of 2100 shoes, how many shoes should each machine make to minimize the cost?"
      ],
      "metadata": {
        "id": "ZhCbAzis-lrd"
      }
    },
    {
      "cell_type": "code",
      "source": [
        "model = cp_model.CpModel()\n",
        "\n",
        "n1 = model.NewIntVar(0, 1000, 'n1')\n",
        "n2 = model.NewIntVar(0, 1000, 'n2')\n",
        "n3 = model.NewIntVar(0, 1000, 'n3')\n",
        "\n",
        "# Introduce a new variable for the squared term and add a constraint\n",
        "n1_squared = model.NewIntVar(0, 1000*1000, 'n1_squared') # Max value is 1000^2\n",
        "model.AddMultiplicationEquality(n1_squared, [n1, n1])\n",
        "n1_n2 = model.NewIntVar(0, 1000*1000, 'n1_n2')\n",
        "model.AddMultiplicationEquality(n1_n2, [n1, n2])\n",
        "\n",
        "model.Add(n1 + n2 + n3 == 2100)\n",
        "\n",
        "# Use the new variable in the objective function\n",
        "model.minimize(0.01*n1_squared + 2*n1 + 6*n1_n2 + 7*n3)\n",
        "\n",
        "solver = cp_model.CpSolver()\n",
        "status = solver.Solve(model)\n",
        "\n",
        "if status == cp_model.OPTIMAL or status == cp_model.FEASIBLE:\n",
        "    print(f'Optimal cost: {solver.ObjectiveValue()}')\n",
        "    print(f'n1: {solver.Value(n1)}')\n",
        "    print(f'n2: {solver.Value(n2)}')\n",
        "    print(f'n3: {solver.Value(n3)}')\n",
        "else:\n",
        "    print('No solution found.')"
      ],
      "metadata": {
        "id": "uSB1KXvr-lN-",
        "colab": {
          "base_uri": "https://localhost:8080/"
        },
        "outputId": "4283ec06-b26c-4cc4-eb9f-9e6a2f8b3afd"
      },
      "execution_count": null,
      "outputs": [
        {
          "output_type": "stream",
          "name": "stdout",
          "text": [
            "Optimal cost: 607300.0\n",
            "n1: 100\n",
            "n2: 1000\n",
            "n3: 1000\n"
          ]
        }
      ]
    },
    {
      "cell_type": "markdown",
      "source": [
        "## Introducing a Boolean Constraint"
      ],
      "metadata": {
        "id": "tas859UAYGsO"
      }
    },
    {
      "cell_type": "markdown",
      "source": [
        "Suppose that we have three machines to manufacture shoes. Machine 2 has a startup cost of $1000. The cost to operate each machine is now represented as\n",
        "\n",
        "<center>$C_1 = 2n_1$\n",
        "\n",
        "\n",
        "$C_2=b\\times(1000 + 6n_2)\\space\\space$  where $b$ is a binary variable taking on values of 0 or 1.\n",
        "\n",
        "$C_3=7n_3$\n",
        "\n",
        "$n_1,n_3 \\le 1000$\n",
        "\n",
        "$n_2 \\le 1000\\times b$</center>\n",
        "\n",
        "\n",
        "\n",
        "where $n_1,n_2,n_3$ are the number of shoes manufactured by each machine. To facilitate a total production of 2100 shoes, how many shoes should each machine make to minimize the cost?"
      ],
      "metadata": {
        "id": "B0ZGlULeUrYr"
      }
    },
    {
      "cell_type": "code",
      "source": [
        "model = cp_model.CpModel()\n",
        "\n",
        "n1 = model.NewIntVar(0, 1000, 'n1')\n",
        "n2 = model.NewIntVar(0, 1000, 'n2')\n",
        "n3 = model.NewIntVar(0, 1000, 'n3')\n",
        "b = model.NewBoolVar('b')\n",
        "\n",
        "model.Add(n1 + n2 + n3 == 2100)\n",
        "\n",
        "# Introduce a new variable for the cost of machine 2\n",
        "cost2 = model.NewIntVar(0, 1000 + 6 * 1000, 'cost2') # Max cost of machine 2\n",
        "\n",
        "# Add constraints to link cost2 to b and n2 using OnlyEnforceIf\n",
        "\n",
        "# If b is 1, cost2 = 1000 + 6 * n2\n",
        "model.Add(cost2 == 1000 + 6 * n2).OnlyEnforceIf(b)\n",
        "\n",
        "# If b is 0, cost2 = 0\n",
        "model.Add(cost2 == 0).OnlyEnforceIf(b.Not())\n",
        "\n",
        "# Add constraint to ensure n2 is 0 if b is 0 (machine 2 is not used)\n",
        "model.Add(n2 == 0).OnlyEnforceIf(b.Not())\n",
        "\n",
        "# Use the new variable in the objective function\n",
        "model.minimize(2*n1 + cost2 + 7*n3)\n",
        "\n",
        "solver = cp_model.CpSolver()\n",
        "status = solver.Solve(model)\n",
        "\n",
        "if status == cp_model.OPTIMAL or status == cp_model.FEASIBLE:\n",
        "    print(f'Optimal cost: {solver.ObjectiveValue()}')\n",
        "    print(f'n1: {solver.Value(n1)}')\n",
        "    print(f'n2: {solver.Value(n2)}')\n",
        "    print(f'n3: {solver.Value(n3)}')\n",
        "    print(f'b: {solver.Value(b)}')\n",
        "else:\n",
        "    print('No solution found.')"
      ],
      "metadata": {
        "colab": {
          "base_uri": "https://localhost:8080/"
        },
        "id": "dfYnCggKV48U",
        "outputId": "d52955cb-936f-43ff-c6ea-18d81077fc82"
      },
      "execution_count": null,
      "outputs": [
        {
          "output_type": "stream",
          "name": "stdout",
          "text": [
            "Optimal cost: 9700.0\n",
            "n1: 1000\n",
            "n2: 1000\n",
            "n3: 100\n",
            "b: 1\n"
          ]
        }
      ]
    },
    {
      "cell_type": "markdown",
      "source": [
        "## (Binary) * (Binary) Example"
      ],
      "metadata": {
        "id": "QHsJOkp3ZJd1"
      }
    },
    {
      "cell_type": "markdown",
      "source": [
        "Suppose that we have three machines to manufacture shoes. Machine 2 can only be operating if Machine 1 is operating. The cost to operate each machine is now represented as\n",
        "\n",
        "<center>$C_1 = b_12n_1$\n",
        "\n",
        "$C_2=b_1b_26n_2$\n",
        "\n",
        "$C_3=7n_3$\n",
        "\n",
        "$n_1 \\le b_1 \\times 1000$\n",
        "\n",
        "$n_2 \\le b_1b_2 \\times 1000$\n",
        "\n",
        "$n_3 \\le 1000$</center>\n",
        "\n",
        "\n",
        "\n",
        "where $n_1,n_2,n_3$ are the number of shoes manufactured by each machine. $b_0$ indicates whether Machine 1 will be used and $b_0b_1$ indicates whether Machine 2 will be used.  To facilitate a total production of 2100 shoes, how many shoes should each machine make to minimize the cost?"
      ],
      "metadata": {
        "id": "UTOO9yjIaS_S"
      }
    },
    {
      "cell_type": "code",
      "source": [
        "model = cp_model.CpModel()\n",
        "\n",
        "n1 = model.NewIntVar(0, 1000, 'n1')\n",
        "n2 = model.NewIntVar(0, 1000, 'n2')\n",
        "n3 = model.NewIntVar(0, 1000, 'n3')\n",
        "b1 = model.NewBoolVar('b1')\n",
        "b2 = model.NewBoolVar('b2')\n",
        "\n",
        "model.Add(n1 + n2 + n3 == 2100)\n",
        "\n",
        "# Define the relationship b1_and_b2 == b1 AND b2 using implications\n",
        "b1_and_b2 = model.NewBoolVar('b1_and_b2')\n",
        "model.AddImplication(b1, b1_and_b2).OnlyEnforceIf(b2) # If b1 is true and b2 is true, then b1_and_b2 is true\n",
        "model.AddImplication(b1_and_b2, b1) # If b1_and_b2 is true, then b1 is true\n",
        "model.AddImplication(b1_and_b2, b2) # If b1_and_b2 is true, then b2 is true\n",
        "\n",
        "\n",
        "# Constraints to link production to binary variables\n",
        "# If b1 is 0, n1 must be 0\n",
        "model.Add(n1 == 0).OnlyEnforceIf(b1.Not())\n",
        "# If b1 is 1, n1 can be up to 1000 (this is already covered by the variable definition)\n",
        "\n",
        "\n",
        "# Machine 2 can only operate if Machine 1 operates (b1_and_b2 is true)\n",
        "# If b1_and_b2 is 0, n2 must be 0\n",
        "model.Add(n2 == 0).OnlyEnforceIf(b1_and_b2.Not())\n",
        "# If b1_and_b2 is 1, n2 can be up to 1000 (this is already covered by the variable definition)\n",
        "\n",
        "\n",
        "model.Add(n3 <= 1000) # Capacity constraint for n3\n",
        "\n",
        "\n",
        "# Use the production variables directly in the objective function with costs\n",
        "model.minimize(2*n1 + 6*n2 + 7*n3)\n",
        "\n",
        "solver = cp_model.CpSolver()\n",
        "status = solver.Solve(model)\n",
        "\n",
        "if status == cp_model.OPTIMAL or status == cp_model.FEASIBLE:\n",
        "    print(f'Optimal cost: {solver.ObjectiveValue()}')\n",
        "    print(f'n1: {solver.Value(n1)}')\n",
        "    print(f'n2: {solver.Value(n2)}')\n",
        "    print(f'n3: {solver.Value(n3)}')\n",
        "    print(f'b1: {solver.Value(b1)}')\n",
        "    print(f'b2: {solver.Value(b2)}')\n",
        "    print(f'b1_and_b2: {solver.Value(b1_and_b2)}')\n",
        "\n",
        "else:\n",
        "    print('No solution found.')"
      ],
      "metadata": {
        "colab": {
          "base_uri": "https://localhost:8080/"
        },
        "id": "-f2vM6zMcLAz",
        "outputId": "7457f518-79cc-4169-f4db-76b6ee06ca6f"
      },
      "execution_count": 15,
      "outputs": [
        {
          "output_type": "stream",
          "name": "stdout",
          "text": [
            "Optimal cost: 8700.0\n",
            "n1: 1000\n",
            "n2: 1000\n",
            "n3: 100\n",
            "b1: 1\n",
            "b2: 1\n",
            "b1_and_b2: 1\n"
          ]
        }
      ]
    }
  ]
}