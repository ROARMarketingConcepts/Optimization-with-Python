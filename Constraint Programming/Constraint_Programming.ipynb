{
  "nbformat": 4,
  "nbformat_minor": 0,
  "metadata": {
    "colab": {
      "provenance": []
    },
    "kernelspec": {
      "name": "python3",
      "display_name": "Python 3"
    },
    "language_info": {
      "name": "python"
    }
  },
  "cells": [
    {
      "cell_type": "markdown",
      "source": [
        "# Constraint Programming"
      ],
      "metadata": {
        "id": "41sNS20Vwv05"
      }
    },
    {
      "cell_type": "markdown",
      "source": [
        "We want to solve the following set of equations:\n",
        "\n",
        "<center>$\\large \\max (2x+2y+2z)$, subject to:\n",
        "\n",
        "\n",
        "$2x+7y+3z\\le50$\n",
        "\n",
        "$3x-5y+7z\\le45$\n",
        "\n",
        "$5x+2y-6z\\le37$\n",
        "\n",
        "$x,y,z \\ge 0$</center>"
      ],
      "metadata": {
        "id": "d23IQrpyw88L"
      }
    },
    {
      "cell_type": "code",
      "source": [
        "# ! pip install ortools"
      ],
      "metadata": {
        "id": "bqxNf8ZbF43G"
      },
      "execution_count": 1,
      "outputs": []
    },
    {
      "cell_type": "code",
      "execution_count": 2,
      "metadata": {
        "id": "kg443NJLqxiC"
      },
      "outputs": [],
      "source": [
        "from ortools.sat.python import cp_model"
      ]
    },
    {
      "cell_type": "code",
      "source": [
        "model = cp_model.CpModel()\n",
        "\n",
        "x = model.NewIntVar(0, 1000, 'x')\n",
        "y = model.NewIntVar(0, 1000, 'y')\n",
        "z = model.NewIntVar(0, 1000, 'z')\n",
        "\n",
        "model.Add(2*x + 7*y + 3*z <= 50)\n",
        "model.Add(3*x - 5*y + 7*z <= 45)\n",
        "model.Add(5*x + 2*y - 6*z <= 37)\n",
        "\n",
        "model.maximize(2*x + 2*y + 3*z)\n",
        "\n",
        "solver = cp_model.CpSolver()\n",
        "status = solver.Solve(model)"
      ],
      "metadata": {
        "id": "GZsptGR8GI3t"
      },
      "execution_count": 9,
      "outputs": []
    },
    {
      "cell_type": "code",
      "source": [
        "status = cp_model.OPTIMAL or cp_model.FEASIBLE\n",
        "if status == cp_model.OPTIMAL:\n",
        "    print(f'Maximum of objective function: {solver.ObjectiveValue()}\\n')\n",
        "    for variable in [x, y, z]:\n",
        "        print(f'{variable}: {solver.Value(variable)}')\n",
        ""
      ],
      "metadata": {
        "colab": {
          "base_uri": "https://localhost:8080/"
        },
        "id": "HHECg_txvIZV",
        "outputId": "38cab710-7016-4282-902a-d1be8d3e9f80"
      },
      "execution_count": 10,
      "outputs": [
        {
          "output_type": "stream",
          "name": "stdout",
          "text": [
            "Maximum of objective function: 35.0\n",
            "\n",
            "x: 7\n",
            "y: 3\n",
            "z: 5\n"
          ]
        }
      ]
    },
    {
      "cell_type": "markdown",
      "source": [
        "What happens if we remove the objective function and another constraint?  We will get a feasible solution which may or may not be the 'optimal' solution."
      ],
      "metadata": {
        "id": "oiow7wTkvutp"
      }
    },
    {
      "cell_type": "code",
      "source": [
        "model = cp_model.CpModel()\n",
        "\n",
        "x = model.NewIntVar(0, 1000, 'x')\n",
        "y = model.NewIntVar(0, 1000, 'y')\n",
        "z = model.NewIntVar(0, 1000, 'z')\n",
        "\n",
        "model.Add(2*x + 7*y + 3*z <= 50)\n",
        "model.Add(3*x - 5*y + 7*z <= 45)\n",
        "model.Add(5*x + 2*y - 6*z <= 37)\n",
        "\n",
        "# model.maximize(2*x + 2*y + 3*z)\n",
        "\n",
        "solver = cp_model.CpSolver()\n",
        "status = solver.Solve(model)"
      ],
      "metadata": {
        "id": "oB9UBQMBv1k5"
      },
      "execution_count": 19,
      "outputs": []
    },
    {
      "cell_type": "code",
      "source": [
        "status = cp_model.OPTIMAL or cp_model.FEASIBLE\n",
        "if status == cp_model.OPTIMAL:\n",
        "    for variable in [x, y, z]:\n",
        "        print(f'{variable}: {solver.Value(variable)}')\n"
      ],
      "metadata": {
        "colab": {
          "base_uri": "https://localhost:8080/"
        },
        "outputId": "70a9497b-3bc0-4f44-b977-0fd1a347d0f7",
        "id": "qsdI7QEgv1k6"
      },
      "execution_count": 20,
      "outputs": [
        {
          "output_type": "stream",
          "name": "stdout",
          "text": [
            "x: 0\n",
            "y: 2\n",
            "z: 0\n"
          ]
        }
      ]
    },
    {
      "cell_type": "markdown",
      "source": [
        "What if we add another constraint, namely $x+y+z \\ge 10$?"
      ],
      "metadata": {
        "id": "s2L3oVxDzKDT"
      }
    },
    {
      "cell_type": "code",
      "source": [
        "model = cp_model.CpModel()\n",
        "\n",
        "x = model.NewIntVar(0, 1000, 'x')\n",
        "y = model.NewIntVar(0, 1000, 'y')\n",
        "z = model.NewIntVar(0, 1000, 'z')\n",
        "\n",
        "model.Add(2*x + 7*y + 3*z <= 50)\n",
        "model.Add(3*x - 5*y + 7*z <= 45)\n",
        "model.Add(5*x + 2*y - 6*z <= 37)\n",
        "model.Add(x + y + z >= 10)       # new constraint\n",
        "\n",
        "# model.maximize(2*x + 2*y + 3*z)\n",
        "\n",
        "solver = cp_model.CpSolver()\n",
        "solution_printer = cp_model.VarArraySolutionPrinter([x,y,z])\n",
        "status = solver.SearchForAllSolutions(model,solution_printer)"
      ],
      "metadata": {
        "colab": {
          "base_uri": "https://localhost:8080/"
        },
        "id": "JrjU076FzHPV",
        "outputId": "21c33826-1435-4172-affa-d7989c884367"
      },
      "execution_count": 23,
      "outputs": [
        {
          "output_type": "stream",
          "name": "stdout",
          "text": [
            "Solution 0, time = 0.00 s\n",
            "  x = 0   y = 5   z = 5 \n",
            "Solution 1, time = 0.01 s\n",
            "  x = 0   y = 4   z = 6 \n",
            "Solution 2, time = 0.01 s\n",
            "  x = 0   y = 4   z = 7 \n",
            "Solution 3, time = 0.01 s\n",
            "  x = 4   y = 6   z = 0 \n",
            "Solution 4, time = 0.01 s\n",
            "  x = 4   y = 5   z = 1 \n",
            "Solution 5, time = 0.01 s\n",
            "  x = 5   y = 5   z = 0 \n",
            "Solution 6, time = 0.01 s\n",
            "  x = 5   y = 5   z = 1 \n",
            "Solution 7, time = 0.01 s\n",
            "  x = 8   y = 1   z = 1 \n",
            "Solution 8, time = 0.01 s\n",
            "  x = 8   y = 0   z = 2 \n",
            "Solution 9, time = 0.02 s\n",
            "  x = 8   y = 0   z = 3 \n",
            "Solution 10, time = 0.02 s\n",
            "  x = 8   y = 1   z = 2 \n",
            "Solution 11, time = 0.02 s\n",
            "  x = 8   y = 1   z = 3 \n",
            "Solution 12, time = 0.02 s\n",
            "  x = 8   y = 2   z = 2 \n",
            "Solution 13, time = 0.02 s\n",
            "  x = 8   y = 2   z = 3 \n",
            "Solution 14, time = 0.02 s\n",
            "  x = 8   y = 2   z = 4 \n",
            "Solution 15, time = 0.03 s\n",
            "  x = 8   y = 3   z = 2 \n",
            "Solution 16, time = 0.03 s\n",
            "  x = 8   y = 3   z = 3 \n",
            "Solution 17, time = 0.03 s\n",
            "  x = 8   y = 3   z = 4 \n",
            "Solution 18, time = 0.03 s\n",
            "  x = 8   y = 4   z = 2 \n",
            "Solution 19, time = 0.03 s\n",
            "  x = 7   y = 2   z = 1 \n",
            "Solution 20, time = 0.04 s\n",
            "  x = 7   y = 3   z = 1 \n",
            "Solution 21, time = 0.04 s\n",
            "  x = 7   y = 4   z = 1 \n",
            "Solution 22, time = 0.04 s\n",
            "  x = 7   y = 1   z = 2 \n",
            "Solution 23, time = 0.04 s\n",
            "  x = 3   y = 5   z = 2 \n",
            "Solution 24, time = 0.04 s\n",
            "  x = 2   y = 5   z = 3 \n",
            "Solution 25, time = 0.04 s\n",
            "  x = 7   y = 0   z = 3 \n",
            "Solution 26, time = 0.04 s\n",
            "  x = 4   y = 5   z = 2 \n",
            "Solution 27, time = 0.04 s\n",
            "  x = 7   y = 1   z = 3 \n",
            "Solution 28, time = 0.04 s\n",
            "  x = 7   y = 1   z = 4 \n",
            "Solution 29, time = 0.05 s\n",
            "  x = 7   y = 2   z = 2 \n",
            "Solution 30, time = 0.05 s\n",
            "  x = 7   y = 2   z = 3 \n",
            "Solution 31, time = 0.05 s\n",
            "  x = 7   y = 2   z = 4 \n",
            "Solution 32, time = 0.05 s\n",
            "  x = 7   y = 3   z = 2 \n",
            "Solution 33, time = 0.05 s\n",
            "  x = 7   y = 3   z = 3 \n",
            "Solution 34, time = 0.05 s\n",
            "  x = 7   y = 3   z = 4 \n",
            "Solution 35, time = 0.05 s\n",
            "  x = 7   y = 3   z = 5 \n",
            "Solution 36, time = 0.05 s\n",
            "  x = 7   y = 4   z = 2 \n",
            "Solution 37, time = 0.06 s\n",
            "  x = 6   y = 3   z = 1 \n",
            "Solution 38, time = 0.06 s\n",
            "  x = 9   y = 0   z = 2 \n",
            "Solution 39, time = 0.06 s\n",
            "  x = 9   y = 1   z = 3 \n",
            "Solution 40, time = 0.06 s\n",
            "  x = 1   y = 2   z = 7 \n",
            "Solution 41, time = 0.06 s\n",
            "  x = 0   y = 3   z = 8 \n",
            "Solution 42, time = 0.06 s\n",
            "  x = 6   y = 1   z = 3 \n",
            "Solution 43, time = 0.07 s\n",
            "  x = 6   y = 3   z = 2 \n",
            "Solution 44, time = 0.07 s\n",
            "  x = 6   y = 3   z = 3 \n",
            "Solution 45, time = 0.07 s\n",
            "  x = 6   y = 3   z = 4 \n",
            "Solution 46, time = 0.07 s\n",
            "  x = 6   y = 4   z = 1 \n",
            "Solution 47, time = 0.07 s\n",
            "  x = 5   y = 4   z = 1 \n",
            "Solution 48, time = 0.08 s\n",
            "  x = 6   y = 5   z = 1 \n",
            "Solution 49, time = 0.08 s\n",
            "  x = 6   y = 2   z = 2 \n",
            "Solution 50, time = 0.08 s\n",
            "  x = 5   y = 3   z = 2 \n",
            "Solution 51, time = 0.08 s\n",
            "  x = 6   y = 4   z = 2 \n",
            "Solution 52, time = 0.08 s\n",
            "  x = 4   y = 4   z = 2 \n",
            "Solution 53, time = 0.08 s\n",
            "  x = 5   y = 4   z = 2 \n",
            "Solution 54, time = 0.08 s\n",
            "  x = 6   y = 1   z = 4 \n",
            "Solution 55, time = 0.08 s\n",
            "  x = 5   y = 1   z = 4 \n",
            "Solution 56, time = 0.08 s\n",
            "  x = 5   y = 1   z = 5 \n",
            "Solution 57, time = 0.08 s\n",
            "  x = 4   y = 1   z = 5 \n",
            "Solution 58, time = 0.09 s\n",
            "  x = 5   y = 2   z = 3 \n",
            "Solution 59, time = 0.09 s\n",
            "  x = 5   y = 2   z = 4 \n",
            "Solution 60, time = 0.09 s\n",
            "  x = 3   y = 5   z = 3 \n",
            "Solution 61, time = 0.09 s\n",
            "  x = 5   y = 2   z = 5 \n",
            "Solution 62, time = 0.09 s\n",
            "  x = 4   y = 2   z = 4 \n",
            "Solution 63, time = 0.09 s\n",
            "  x = 4   y = 2   z = 5 \n",
            "Solution 64, time = 0.09 s\n",
            "  x = 4   y = 2   z = 6 \n",
            "Solution 65, time = 0.09 s\n",
            "  x = 3   y = 2   z = 5 \n",
            "Solution 66, time = 0.09 s\n",
            "  x = 3   y = 2   z = 6 \n",
            "Solution 67, time = 0.09 s\n",
            "  x = 2   y = 2   z = 6 \n",
            "Solution 68, time = 0.09 s\n",
            "  x = 2   y = 2   z = 7 \n",
            "Solution 69, time = 0.09 s\n",
            "  x = 6   y = 2   z = 3 \n",
            "Solution 70, time = 0.10 s\n",
            "  x = 6   y = 2   z = 4 \n",
            "Solution 71, time = 0.10 s\n",
            "  x = 6   y = 2   z = 5 \n",
            "Solution 72, time = 0.10 s\n",
            "  x = 4   y = 3   z = 3 \n",
            "Solution 73, time = 0.10 s\n",
            "  x = 3   y = 3   z = 4 \n",
            "Solution 74, time = 0.10 s\n",
            "  x = 2   y = 3   z = 5 \n",
            "Solution 75, time = 0.10 s\n",
            "  x = 2   y = 3   z = 6 \n",
            "Solution 76, time = 0.10 s\n",
            "  x = 0   y = 3   z = 7 \n",
            "Solution 77, time = 0.10 s\n",
            "  x = 1   y = 5   z = 4 \n",
            "Solution 78, time = 0.10 s\n",
            "  x = 1   y = 3   z = 6 \n",
            "Solution 79, time = 0.10 s\n",
            "  x = 4   y = 3   z = 4 \n",
            "Solution 80, time = 0.10 s\n",
            "  x = 4   y = 3   z = 5 \n",
            "Solution 81, time = 0.10 s\n",
            "  x = 4   y = 3   z = 6 \n",
            "Solution 82, time = 0.10 s\n",
            "  x = 4   y = 4   z = 3 \n",
            "Solution 83, time = 0.11 s\n",
            "  x = 4   y = 4   z = 4 \n",
            "Solution 84, time = 0.11 s\n",
            "  x = 3   y = 4   z = 3 \n",
            "Solution 85, time = 0.11 s\n",
            "  x = 9   y = 1   z = 2 \n",
            "Solution 86, time = 0.11 s\n",
            "  x = 9   y = 2   z = 2 \n",
            "Solution 87, time = 0.11 s\n",
            "  x = 6   y = 3   z = 5 \n",
            "Solution 88, time = 0.11 s\n",
            "  x = 3   y = 4   z = 4 \n",
            "Solution 89, time = 0.11 s\n",
            "  x = 3   y = 4   z = 5 \n",
            "Solution 90, time = 0.11 s\n",
            "  x = 2   y = 4   z = 4 \n",
            "Solution 91, time = 0.11 s\n",
            "  x = 2   y = 4   z = 5 \n",
            "Solution 92, time = 0.11 s\n",
            "  x = 6   y = 4   z = 3 \n",
            "Solution 93, time = 0.12 s\n",
            "  x = 1   y = 4   z = 5 \n",
            "Solution 94, time = 0.12 s\n",
            "  x = 2   y = 4   z = 6 \n",
            "Solution 95, time = 0.12 s\n",
            "  x = 5   y = 3   z = 3 \n",
            "Solution 96, time = 0.12 s\n",
            "  x = 5   y = 3   z = 4 \n",
            "Solution 97, time = 0.12 s\n",
            "  x = 1   y = 4   z = 6 \n",
            "Solution 98, time = 0.12 s\n",
            "  x = 1   y = 3   z = 7 \n",
            "Solution 99, time = 0.12 s\n",
            "  x = 1   y = 3   z = 8 \n",
            "Solution 100, time = 0.12 s\n",
            "  x = 2   y = 3   z = 7 \n",
            "Solution 101, time = 0.12 s\n",
            "  x = 3   y = 3   z = 5 \n",
            "Solution 102, time = 0.12 s\n",
            "  x = 3   y = 3   z = 6 \n",
            "Solution 103, time = 0.12 s\n",
            "  x = 3   y = 3   z = 7 \n",
            "Solution 104, time = 0.12 s\n",
            "  x = 5   y = 3   z = 5 \n",
            "Solution 105, time = 0.12 s\n",
            "  x = 5   y = 3   z = 6 \n",
            "Solution 106, time = 0.13 s\n",
            "  x = 5   y = 4   z = 3 \n",
            "Solution 107, time = 0.13 s\n",
            "  x = 5   y = 4   z = 4 \n",
            "Solution 108, time = 0.13 s\n",
            "  x = 9   y = 2   z = 3 \n",
            "Solution 109, time = 0.13 s\n",
            "  x = 9   y = 3   z = 3 \n",
            "Solution 110, time = 0.13 s\n",
            "  x = 9   y = 2   z = 4 \n",
            "Solution 111, time = 0.13 s\n",
            "  x = 10   y = 2   z = 3 \n"
          ]
        }
      ]
    }
  ]
}