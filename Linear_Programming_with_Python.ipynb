{
  "nbformat": 4,
  "nbformat_minor": 0,
  "metadata": {
    "colab": {
      "provenance": []
    },
    "kernelspec": {
      "name": "python3",
      "display_name": "Python 3"
    },
    "language_info": {
      "name": "python"
    }
  },
  "cells": [
    {
      "cell_type": "markdown",
      "source": [
        "# Linear Programming with Python (GLOP, SCIP, Gurobi, C-Plex, GLPK)\n",
        "\n",
        "We will be solving the following set of equations:\n",
        "\n",
        "$max(x+y)$, subject to:\n",
        "\n",
        "* $-x+2y\\le8$\n",
        "* $2x+y\\le14$\n",
        "* $2x-y\\le10$\n",
        "* $0\\le x\\le10$\n",
        "* $0\\le y\\le 10$\n"
      ],
      "metadata": {
        "id": "5mesP1XaAQN9"
      }
    },
    {
      "cell_type": "markdown",
      "source": [
        "#### Install Required Packages"
      ],
      "metadata": {
        "id": "yD04SWQrwCXS"
      }
    },
    {
      "cell_type": "code",
      "execution_count": 1,
      "metadata": {
        "id": "bqrpQkEwvi4l"
      },
      "outputs": [],
      "source": [
        "# ! pip install -U ortools"
      ]
    },
    {
      "cell_type": "code",
      "source": [
        "!pip install -q condacolab\n",
        "import condacolab\n",
        "condacolab.install()\n"
      ],
      "metadata": {
        "colab": {
          "base_uri": "https://localhost:8080/"
        },
        "id": "Z32E4cfOGIWr",
        "outputId": "adc10e27-a776-4bb1-9f30-9cfe81fb8167"
      },
      "execution_count": 2,
      "outputs": [
        {
          "output_type": "stream",
          "name": "stdout",
          "text": [
            "✨🍰✨ Everything looks OK!\n"
          ]
        }
      ]
    },
    {
      "cell_type": "code",
      "source": [
        "!conda install pyscipopt"
      ],
      "metadata": {
        "colab": {
          "base_uri": "https://localhost:8080/"
        },
        "collapsed": true,
        "id": "d3KsIappGiTw",
        "outputId": "d4a9d2c3-d293-4fbc-ba87-5bfec2eb5345"
      },
      "execution_count": 3,
      "outputs": [
        {
          "output_type": "stream",
          "name": "stdout",
          "text": [
            "Channels:\n",
            " - conda-forge\n",
            "Platform: linux-64\n",
            "Collecting package metadata (repodata.json): - \b\b\\ \b\b| \b\b/ \b\b- \b\b\\ \b\b| \b\b/ \b\b- \b\b\\ \b\b| \b\b/ \b\b- \b\b\\ \b\b| \b\b/ \b\bdone\n",
            "Solving environment: \\ \b\b| \b\b/ \b\b- \b\bdone\n",
            "\n",
            "\n",
            "==> WARNING: A newer version of conda exists. <==\n",
            "    current version: 24.11.3\n",
            "    latest version: 25.7.0\n",
            "\n",
            "Please update conda by running\n",
            "\n",
            "    $ conda update -n base -c conda-forge conda\n",
            "\n",
            "\n",
            "\n",
            "# All requested packages already installed.\n",
            "\n"
          ]
        }
      ]
    },
    {
      "cell_type": "code",
      "source": [
        "from ortools.linear_solver import pywraplp"
      ],
      "metadata": {
        "id": "HbTnjYFSwJNu"
      },
      "execution_count": 4,
      "outputs": []
    },
    {
      "cell_type": "markdown",
      "source": [
        "## GLOP - Google Linear Optimization Package"
      ],
      "metadata": {
        "id": "aryeq50aJCDy"
      }
    },
    {
      "cell_type": "markdown",
      "source": [
        "#### Create the Solver instance"
      ],
      "metadata": {
        "id": "isYQa5PWwd5T"
      }
    },
    {
      "cell_type": "code",
      "source": [
        "solver = pywraplp.Solver.CreateSolver('GLOP') # Google Linear Optimization Package"
      ],
      "metadata": {
        "id": "g_hvLUVDwdQk"
      },
      "execution_count": 5,
      "outputs": []
    },
    {
      "cell_type": "markdown",
      "source": [
        "#### Enter the equations"
      ],
      "metadata": {
        "id": "EtxtFcAhBUH8"
      }
    },
    {
      "cell_type": "code",
      "source": [
        "x = solver.NumVar(0, 10, 'x')\n",
        "y = solver.NumVar(0, 10, 'y')\n",
        "\n",
        "solver.Add(-x + 2 * y <= 8.0)\n",
        "solver.Add(2 * x + y <= 14.0)\n",
        "solver.Add(2 * x - y <= 10.0)"
      ],
      "metadata": {
        "colab": {
          "base_uri": "https://localhost:8080/"
        },
        "id": "WJpntpmIBdiW",
        "outputId": "f0b28135-be15-472e-fb85-58fde8e06401"
      },
      "execution_count": 6,
      "outputs": [
        {
          "output_type": "execute_result",
          "data": {
            "text/plain": [
              "<ortools.linear_solver.pywraplp.Constraint; proxy of <Swig Object of type 'operations_research::MPConstraint *' at 0x7e51837aac70> >"
            ]
          },
          "metadata": {},
          "execution_count": 6
        }
      ]
    },
    {
      "cell_type": "markdown",
      "source": [
        "#### Enter the objective function"
      ],
      "metadata": {
        "id": "UCkhDDE3Buc6"
      }
    },
    {
      "cell_type": "code",
      "source": [
        "solver.Maximize(x + y)\n",
        "result = solver.Solve()"
      ],
      "metadata": {
        "id": "miBbP85tBsBg"
      },
      "execution_count": 7,
      "outputs": []
    },
    {
      "cell_type": "markdown",
      "source": [
        "#### Get solution"
      ],
      "metadata": {
        "id": "ezQvR722CKW6"
      }
    },
    {
      "cell_type": "code",
      "source": [
        "if result == pywraplp.Solver.OPTIMAL:\n",
        "    print('Solution:')\n",
        "    print('Objective value =', solver.Objective().Value())\n",
        "    print('x =', x.solution_value())\n",
        "    print('y =', y.solution_value())"
      ],
      "metadata": {
        "colab": {
          "base_uri": "https://localhost:8080/"
        },
        "id": "RXKYa6-ICHLr",
        "outputId": "2473f5ed-436a-45b6-b94b-a5a4b7226264"
      },
      "execution_count": 8,
      "outputs": [
        {
          "output_type": "stream",
          "name": "stdout",
          "text": [
            "Solution:\n",
            "Objective value = 10.0\n",
            "x = 4.0\n",
            "y = 6.0\n"
          ]
        }
      ]
    },
    {
      "cell_type": "markdown",
      "source": [
        "## SCIP (Solving Constraint Integer Programs)"
      ],
      "metadata": {
        "id": "Fn3MqKvgHXw_"
      }
    },
    {
      "cell_type": "code",
      "source": [
        "from pyscipopt import Model\n",
        "\n",
        "model = Model(\"example\")"
      ],
      "metadata": {
        "id": "464OEwc9HGB5"
      },
      "execution_count": 9,
      "outputs": []
    },
    {
      "cell_type": "code",
      "source": [
        "x = model.addVar(vtype=\"C\", name=\"x\")\n",
        "y = model.addVar(vtype=\"C\", name=\"y\")\n",
        "\n",
        "model.setObjective(x + y, sense=\"maximize\")"
      ],
      "metadata": {
        "id": "KuBpW8HTHqUv"
      },
      "execution_count": 10,
      "outputs": []
    },
    {
      "cell_type": "code",
      "source": [
        "model.addCons(-x + 2 * y <= 8)\n",
        "model.addCons(2 * x + y <= 14)\n",
        "model.addCons(2 * x - y <= 10)"
      ],
      "metadata": {
        "colab": {
          "base_uri": "https://localhost:8080/"
        },
        "id": "oNKUv7WRH4pE",
        "outputId": "75ab2509-88a5-40e1-a79c-a33b4397d2f2"
      },
      "execution_count": 11,
      "outputs": [
        {
          "output_type": "execute_result",
          "data": {
            "text/plain": [
              "c3"
            ]
          },
          "metadata": {},
          "execution_count": 11
        }
      ]
    },
    {
      "cell_type": "code",
      "source": [
        "model.optimize()\n",
        "\n",
        "solution = model.getBestSol()\n",
        "print(\"Optimal Solution:\")\n",
        "print(\"x =\", solution[x])\n",
        "print(\"y =\", solution[y])"
      ],
      "metadata": {
        "colab": {
          "base_uri": "https://localhost:8080/"
        },
        "id": "igDAqbKbH-4-",
        "outputId": "e8456ba9-586d-4af9-8596-b37bea8a0f75"
      },
      "execution_count": 12,
      "outputs": [
        {
          "output_type": "stream",
          "name": "stdout",
          "text": [
            "Optimal Solution:\n",
            "x = 4.0\n",
            "y = 6.0\n"
          ]
        }
      ]
    },
    {
      "cell_type": "markdown",
      "source": [
        "## Gurobi"
      ],
      "metadata": {
        "id": "vYnP82ovJa84"
      }
    },
    {
      "cell_type": "code",
      "source": [
        "!pip install gurobipy"
      ],
      "metadata": {
        "colab": {
          "base_uri": "https://localhost:8080/"
        },
        "id": "cyCka492JdCs",
        "outputId": "d19629c5-8ebd-4ea7-9d79-decac6e69b83"
      },
      "execution_count": 13,
      "outputs": [
        {
          "output_type": "stream",
          "name": "stdout",
          "text": [
            "Requirement already satisfied: gurobipy in /usr/local/lib/python3.11/site-packages (12.0.3)\n"
          ]
        }
      ]
    },
    {
      "cell_type": "code",
      "source": [
        "! pip install pyomo"
      ],
      "metadata": {
        "colab": {
          "base_uri": "https://localhost:8080/"
        },
        "id": "0pyBbwGKJ7lq",
        "outputId": "ce0e24a6-254c-4fae-91cd-81e615ffa477"
      },
      "execution_count": 14,
      "outputs": [
        {
          "output_type": "stream",
          "name": "stdout",
          "text": [
            "Requirement already satisfied: pyomo in /usr/local/lib/python3.11/site-packages (6.9.3)\n",
            "Requirement already satisfied: ply in /usr/local/lib/python3.11/site-packages (from pyomo) (3.11)\n"
          ]
        }
      ]
    },
    {
      "cell_type": "code",
      "source": [
        "! pip install cplex"
      ],
      "metadata": {
        "colab": {
          "base_uri": "https://localhost:8080/"
        },
        "id": "6f5BgvExfapu",
        "outputId": "b5ddeaab-832d-4ea7-8cda-4048739403fa"
      },
      "execution_count": 15,
      "outputs": [
        {
          "output_type": "stream",
          "name": "stdout",
          "text": [
            "Requirement already satisfied: cplex in /usr/local/lib/python3.11/site-packages (22.1.2.0)\n"
          ]
        }
      ]
    },
    {
      "cell_type": "code",
      "metadata": {
        "colab": {
          "base_uri": "https://localhost:8080/"
        },
        "id": "a9a66baf",
        "outputId": "588f3b10-b0a4-4ded-872d-cffb8069f84c"
      },
      "source": [
        "!conda install -c conda-forge glpk"
      ],
      "execution_count": 16,
      "outputs": [
        {
          "output_type": "stream",
          "name": "stdout",
          "text": [
            "Channels:\n",
            " - conda-forge\n",
            "Platform: linux-64\n",
            "Collecting package metadata (repodata.json): - \b\b\\ \b\b| \b\b/ \b\b- \b\b\\ \b\b| \b\b/ \b\b- \b\b\\ \b\b| \b\b/ \b\b- \b\b\\ \b\b| \b\b/ \b\b- \b\b\\ \b\bdone\n",
            "Solving environment: / \b\b- \b\b\\ \b\bdone\n",
            "\n",
            "\n",
            "==> WARNING: A newer version of conda exists. <==\n",
            "    current version: 24.11.3\n",
            "    latest version: 25.7.0\n",
            "\n",
            "Please update conda by running\n",
            "\n",
            "    $ conda update -n base -c conda-forge conda\n",
            "\n",
            "\n",
            "\n",
            "# All requested packages already installed.\n",
            "\n"
          ]
        }
      ]
    },
    {
      "cell_type": "code",
      "source": [
        "import pyomo.environ as pyo\n",
        "import gurobipy as gp\n",
        "from pyomo.environ import *"
      ],
      "metadata": {
        "id": "pn4QlERCKMr5"
      },
      "execution_count": 17,
      "outputs": []
    },
    {
      "cell_type": "code",
      "source": [
        "model = pyo.ConcreteModel()\n",
        "\n",
        "model.x = pyo.Var(bounds=(0, 10))\n",
        "model.y = pyo.Var(bounds=(0, 10))\n",
        "\n",
        "x = model.x\n",
        "y = model.y\n",
        "\n",
        "model.C1 = pyo.Constraint(expr=-x + 2 * y <= 8)\n",
        "model.C2 = pyo.Constraint(expr=2 * x + y <= 14)\n",
        "model.C3 = pyo.Constraint(expr=2 * x - y <= 10)\n",
        "\n",
        "model.obj = pyo.Objective(expr=x + y, sense=maximize)"
      ],
      "metadata": {
        "id": "H_WBeGhpKc34"
      },
      "execution_count": 18,
      "outputs": []
    },
    {
      "cell_type": "code",
      "source": [
        "opt = pyo.SolverFactory('gurobi')\n",
        "opt.solve(model)"
      ],
      "metadata": {
        "colab": {
          "base_uri": "https://localhost:8080/"
        },
        "id": "CjcoRpb6NhpC",
        "outputId": "1b40902e-9337-4541-a602-2eeb245f2276"
      },
      "execution_count": 19,
      "outputs": [
        {
          "output_type": "execute_result",
          "data": {
            "text/plain": [
              "{'Problem': [{'Name': 'x1', 'Lower bound': 10.0, 'Upper bound': 10.0, 'Number of objectives': 1, 'Number of constraints': 3, 'Number of variables': 2, 'Number of binary variables': 0, 'Number of integer variables': 0, 'Number of continuous variables': 2, 'Number of nonzeros': 6, 'Sense': 'maximize'}], 'Solver': [{'Status': 'ok', 'Return code': 0, 'Message': 'Model was solved to optimality (subject to tolerances), and an optimal solution is available.', 'Termination condition': 'optimal', 'Termination message': 'Model was solved to optimality (subject to tolerances), and an optimal solution is available.', 'Wall time': 0.0006208419799804688, 'Error rc': 0}], 'Solution': [OrderedDict([('number of solutions', 0), ('number of solutions displayed', 0)])]}"
            ]
          },
          "metadata": {},
          "execution_count": 19
        }
      ]
    },
    {
      "cell_type": "code",
      "source": [
        "model.pprint()"
      ],
      "metadata": {
        "colab": {
          "base_uri": "https://localhost:8080/"
        },
        "id": "20PpyFU2N9Lm",
        "outputId": "0a969148-5b9e-4aea-eba7-f529e93ba798"
      },
      "execution_count": 20,
      "outputs": [
        {
          "output_type": "stream",
          "name": "stdout",
          "text": [
            "2 Var Declarations\n",
            "    x : Size=1, Index=None\n",
            "        Key  : Lower : Value : Upper : Fixed : Stale : Domain\n",
            "        None :     0 :   4.0 :    10 : False : False :  Reals\n",
            "    y : Size=1, Index=None\n",
            "        Key  : Lower : Value : Upper : Fixed : Stale : Domain\n",
            "        None :     0 :   6.0 :    10 : False : False :  Reals\n",
            "\n",
            "1 Objective Declarations\n",
            "    obj : Size=1, Index=None, Active=True\n",
            "        Key  : Active : Sense    : Expression\n",
            "        None :   True : maximize : x + y\n",
            "\n",
            "3 Constraint Declarations\n",
            "    C1 : Size=1, Index=None, Active=True\n",
            "        Key  : Lower : Body      : Upper : Active\n",
            "        None :  -Inf : - x + 2*y :   8.0 :   True\n",
            "    C2 : Size=1, Index=None, Active=True\n",
            "        Key  : Lower : Body    : Upper : Active\n",
            "        None :  -Inf : 2*x + y :  14.0 :   True\n",
            "    C3 : Size=1, Index=None, Active=True\n",
            "        Key  : Lower : Body    : Upper : Active\n",
            "        None :  -Inf : 2*x - y :  10.0 :   True\n",
            "\n",
            "6 Declarations: x y C1 C2 C3 obj\n"
          ]
        }
      ]
    },
    {
      "cell_type": "code",
      "source": [
        "x = pyo.value(model.x)\n",
        "y = pyo.value(model.y)\n",
        "print(\"Optimal Solution:\")\n",
        "print(\"x =\", x)\n",
        "print(\"y =\", y)"
      ],
      "metadata": {
        "colab": {
          "base_uri": "https://localhost:8080/"
        },
        "id": "EOiW-VS5dvdA",
        "outputId": "c2b5f109-3981-42d9-c0d0-0fa05ac97162"
      },
      "execution_count": 21,
      "outputs": [
        {
          "output_type": "stream",
          "name": "stdout",
          "text": [
            "Optimal Solution:\n",
            "x = 4.0\n",
            "y = 6.0\n"
          ]
        }
      ]
    },
    {
      "cell_type": "code",
      "source": [
        "opt = pyo.SolverFactory('glpk')\n",
        "opt.solve(model)"
      ],
      "metadata": {
        "colab": {
          "base_uri": "https://localhost:8080/"
        },
        "outputId": "02e0f86d-45e1-4822-f247-9532e268ff4e",
        "id": "Ggo1gTJ5eBqT"
      },
      "execution_count": 22,
      "outputs": [
        {
          "output_type": "execute_result",
          "data": {
            "text/plain": [
              "{'Problem': [{'Name': 'unknown', 'Lower bound': 10.0, 'Upper bound': 10.0, 'Number of objectives': 1, 'Number of constraints': 3, 'Number of variables': 2, 'Number of nonzeros': 6, 'Sense': 'maximize'}], 'Solver': [{'Status': 'ok', 'Termination condition': 'optimal', 'Statistics': {'Branch and bound': {'Number of bounded subproblems': 0, 'Number of created subproblems': 0}}, 'Error rc': 0, 'Time': 0.0062944889068603516}], 'Solution': [OrderedDict([('number of solutions', 0), ('number of solutions displayed', 0)])]}"
            ]
          },
          "metadata": {},
          "execution_count": 22
        }
      ]
    },
    {
      "cell_type": "code",
      "source": [
        "model.pprint()"
      ],
      "metadata": {
        "colab": {
          "base_uri": "https://localhost:8080/"
        },
        "outputId": "a804786f-68b3-4659-be78-af4ca1db198f",
        "id": "55CE6aSVeBqV"
      },
      "execution_count": 23,
      "outputs": [
        {
          "output_type": "stream",
          "name": "stdout",
          "text": [
            "2 Var Declarations\n",
            "    x : Size=1, Index=None\n",
            "        Key  : Lower : Value : Upper : Fixed : Stale : Domain\n",
            "        None :     0 :   4.0 :    10 : False : False :  Reals\n",
            "    y : Size=1, Index=None\n",
            "        Key  : Lower : Value : Upper : Fixed : Stale : Domain\n",
            "        None :     0 :   6.0 :    10 : False : False :  Reals\n",
            "\n",
            "1 Objective Declarations\n",
            "    obj : Size=1, Index=None, Active=True\n",
            "        Key  : Active : Sense    : Expression\n",
            "        None :   True : maximize : x + y\n",
            "\n",
            "3 Constraint Declarations\n",
            "    C1 : Size=1, Index=None, Active=True\n",
            "        Key  : Lower : Body      : Upper : Active\n",
            "        None :  -Inf : - x + 2*y :   8.0 :   True\n",
            "    C2 : Size=1, Index=None, Active=True\n",
            "        Key  : Lower : Body    : Upper : Active\n",
            "        None :  -Inf : 2*x + y :  14.0 :   True\n",
            "    C3 : Size=1, Index=None, Active=True\n",
            "        Key  : Lower : Body    : Upper : Active\n",
            "        None :  -Inf : 2*x - y :  10.0 :   True\n",
            "\n",
            "6 Declarations: x y C1 C2 C3 obj\n"
          ]
        }
      ]
    },
    {
      "cell_type": "code",
      "source": [
        "x = pyo.value(model.x)\n",
        "y = pyo.value(model.y)\n",
        "print(\"Optimal Solution:\")\n",
        "print(\"x =\", x)\n",
        "print(\"y =\", y)"
      ],
      "metadata": {
        "colab": {
          "base_uri": "https://localhost:8080/"
        },
        "outputId": "65c20286-c63f-4fa0-9486-fbff88a8870c",
        "id": "C9SgQh6seBqW"
      },
      "execution_count": 24,
      "outputs": [
        {
          "output_type": "stream",
          "name": "stdout",
          "text": [
            "Optimal Solution:\n",
            "x = 4.0\n",
            "y = 6.0\n"
          ]
        }
      ]
    },
    {
      "cell_type": "markdown",
      "source": [
        "## PuLP - Python Linear Programming"
      ],
      "metadata": {
        "id": "tHeaz2vWj-Q6"
      }
    },
    {
      "cell_type": "code",
      "source": [
        "! pip install cython"
      ],
      "metadata": {
        "colab": {
          "base_uri": "https://localhost:8080/"
        },
        "id": "Ht0WVThbiSEf",
        "outputId": "de808e89-605b-4983-9357-ee38bb2f3457"
      },
      "execution_count": 26,
      "outputs": [
        {
          "output_type": "stream",
          "name": "stdout",
          "text": [
            "Collecting cython\n",
            "  Downloading cython-3.1.2-cp311-cp311-manylinux_2_17_x86_64.manylinux2014_x86_64.whl.metadata (5.9 kB)\n",
            "Downloading cython-3.1.2-cp311-cp311-manylinux_2_17_x86_64.manylinux2014_x86_64.whl (3.2 MB)\n",
            "\u001b[?25l   \u001b[90m━━━━━━━━━━━━━━━━━━━━━━━━━━━━━━━━━━━━━━━━\u001b[0m \u001b[32m0.0/3.2 MB\u001b[0m \u001b[31m?\u001b[0m eta \u001b[36m-:--:--\u001b[0m\r\u001b[2K   \u001b[90m━━━━━━━━━━━━━━━━━━━━━━━━━━━━━━━━━━━━━━━━\u001b[0m \u001b[32m3.2/3.2 MB\u001b[0m \u001b[31m37.2 MB/s\u001b[0m eta \u001b[36m0:00:00\u001b[0m\n",
            "\u001b[?25hInstalling collected packages: cython\n",
            "Successfully installed cython-3.1.2\n"
          ]
        }
      ]
    },
    {
      "cell_type": "code",
      "source": [
        "! pip install pulp"
      ],
      "metadata": {
        "colab": {
          "base_uri": "https://localhost:8080/"
        },
        "id": "25BFhYdwiZPJ",
        "outputId": "014f1b5d-94c2-4b78-a95c-6fc8eee1dd52"
      },
      "execution_count": 27,
      "outputs": [
        {
          "output_type": "stream",
          "name": "stdout",
          "text": [
            "Collecting pulp\n",
            "  Downloading pulp-3.2.2-py3-none-any.whl.metadata (6.9 kB)\n",
            "Downloading pulp-3.2.2-py3-none-any.whl (16.4 MB)\n",
            "\u001b[2K   \u001b[90m━━━━━━━━━━━━━━━━━━━━━━━━━━━━━━━━━━━━━━━━\u001b[0m \u001b[32m16.4/16.4 MB\u001b[0m \u001b[31m26.3 MB/s\u001b[0m eta \u001b[36m0:00:00\u001b[0m\n",
            "\u001b[?25hInstalling collected packages: pulp\n",
            "Successfully installed pulp-3.2.2\n"
          ]
        }
      ]
    },
    {
      "cell_type": "code",
      "source": [
        "import pulp as pl"
      ],
      "metadata": {
        "id": "-ZTyOPGUihBq"
      },
      "execution_count": 28,
      "outputs": []
    },
    {
      "cell_type": "code",
      "source": [
        "model = pl.LpProblem(\"Simple_LP\", pl.LpMaximize)\n",
        "\n",
        "x = pl.LpVariable(\"x\", lowBound=0,upBound=10)\n",
        "y = pl.LpVariable(\"y\", lowBound=0,upBound=10)\n",
        "\n",
        "model += -x + 2 * y <= 8\n",
        "model += 2 * x + y <= 14\n",
        "model += 2 * x - y <= 10\n",
        "\n",
        "model += x + y\n"
      ],
      "metadata": {
        "id": "-RWBzRIuikzH"
      },
      "execution_count": 30,
      "outputs": []
    },
    {
      "cell_type": "code",
      "source": [
        "status = model.solve()\n",
        "print(pl.LpStatus[status])"
      ],
      "metadata": {
        "colab": {
          "base_uri": "https://localhost:8080/"
        },
        "id": "ShTkoo7FjMxA",
        "outputId": "cc2538c6-8a80-4e82-a24d-988176c52c47"
      },
      "execution_count": 31,
      "outputs": [
        {
          "output_type": "stream",
          "name": "stdout",
          "text": [
            "Optimal\n"
          ]
        }
      ]
    },
    {
      "cell_type": "code",
      "source": [
        "x = pl.value(x)\n",
        "y = pl.value(y)\n",
        "print(\"Optimal Solution:\")\n",
        "print(\"x =\", x)\n",
        "print(\"y =\", y)"
      ],
      "metadata": {
        "colab": {
          "base_uri": "https://localhost:8080/"
        },
        "id": "uQ97vFlXjTaa",
        "outputId": "2bee31e3-b0b5-4cb5-ebf1-7ca547a463c8"
      },
      "execution_count": 32,
      "outputs": [
        {
          "output_type": "stream",
          "name": "stdout",
          "text": [
            "Optimal Solution:\n",
            "x = 4.0\n",
            "y = 6.0\n"
          ]
        }
      ]
    },
    {
      "cell_type": "markdown",
      "source": [
        "An exercise:\n",
        "\n",
        "Minimize $-4x-2y$ subject to:\n",
        "\n",
        "* $x+y\\le8$\n",
        "* $8x+3y\\ge-24$\n",
        "* $-6x+8y\\le48$\n",
        "* $3x+5y\\le15$\n",
        "* $x\\le3$\n",
        "* $y\\ge0$"
      ],
      "metadata": {
        "id": "4he4GX6CkPu4"
      }
    },
    {
      "cell_type": "code",
      "source": [
        "model2 = pyo.ConcreteModel()\n",
        "\n",
        "model2.x = pyo.Var(bounds=(None, 3))\n",
        "model2.y = pyo.Var(bounds=(0, None))\n",
        "\n",
        "x = model2.x\n",
        "y = model2.y\n",
        "\n",
        "model2.C1 = pyo.Constraint(expr=x + y <= 8)\n",
        "model2.C2 = pyo.Constraint(expr=8 * x + 3 * y >= -24)\n",
        "model2.C3 = pyo.Constraint(expr=-6 * x + 8 * y <= 48)\n",
        "model2.C4 = pyo.Constraint(expr=3 * x + 5 * y <= 15)\n",
        "\n",
        "model.obj = pyo.Objective(expr=x + y, sense=maximize)"
      ],
      "metadata": {
        "id": "UwENxTbplZ-W"
      },
      "execution_count": 33,
      "outputs": []
    },
    {
      "cell_type": "code",
      "source": [
        "opt = pyo.SolverFactory('gurobi')\n",
        "opt.solve(model2)"
      ],
      "metadata": {
        "colab": {
          "base_uri": "https://localhost:8080/"
        },
        "id": "McbF0Qs2mded",
        "outputId": "8c54716e-230a-4faa-ed69-c82f9c9ffeef"
      },
      "execution_count": 34,
      "outputs": [
        {
          "output_type": "execute_result",
          "data": {
            "text/plain": [
              "{'Problem': [{'Name': 'x1', 'Lower bound': 1.0, 'Upper bound': 1.0, 'Number of objectives': 1, 'Number of constraints': 4, 'Number of variables': 3, 'Number of binary variables': 0, 'Number of integer variables': 0, 'Number of continuous variables': 3, 'Number of nonzeros': 8, 'Sense': 'minimize'}], 'Solver': [{'Status': 'ok', 'Return code': 0, 'Message': 'Model was solved to optimality (subject to tolerances), and an optimal solution is available.', 'Termination condition': 'optimal', 'Termination message': 'Model was solved to optimality (subject to tolerances), and an optimal solution is available.', 'Wall time': 0.0069119930267333984, 'Error rc': 0}], 'Solution': [OrderedDict([('number of solutions', 0), ('number of solutions displayed', 0)])]}"
            ]
          },
          "metadata": {},
          "execution_count": 34
        }
      ]
    },
    {
      "cell_type": "code",
      "source": [
        "model2.pprint()"
      ],
      "metadata": {
        "colab": {
          "base_uri": "https://localhost:8080/"
        },
        "id": "WWBRYKHgmmuq",
        "outputId": "4fc4a61e-bd65-4282-ee7e-81d6f8d15b51"
      },
      "execution_count": 36,
      "outputs": [
        {
          "output_type": "stream",
          "name": "stdout",
          "text": [
            "2 Var Declarations\n",
            "    x : Size=1, Index=None\n",
            "        Key  : Lower : Value : Upper : Fixed : Stale : Domain\n",
            "        None :  None :  -3.0 :     3 : False : False :  Reals\n",
            "    y : Size=1, Index=None\n",
            "        Key  : Lower : Value : Upper : Fixed : Stale : Domain\n",
            "        None :     0 :   0.0 :  None : False : False :  Reals\n",
            "\n",
            "4 Constraint Declarations\n",
            "    C1 : Size=1, Index=None, Active=True\n",
            "        Key  : Lower : Body  : Upper : Active\n",
            "        None :  -Inf : x + y :   8.0 :   True\n",
            "    C2 : Size=1, Index=None, Active=True\n",
            "        Key  : Lower : Body      : Upper : Active\n",
            "        None : -24.0 : 8*x + 3*y :  +Inf :   True\n",
            "    C3 : Size=1, Index=None, Active=True\n",
            "        Key  : Lower : Body       : Upper : Active\n",
            "        None :  -Inf : -6*x + 8*y :  48.0 :   True\n",
            "    C4 : Size=1, Index=None, Active=True\n",
            "        Key  : Lower : Body      : Upper : Active\n",
            "        None :  -Inf : 3*x + 5*y :  15.0 :   True\n",
            "\n",
            "6 Declarations: x y C1 C2 C3 C4\n"
          ]
        }
      ]
    },
    {
      "cell_type": "code",
      "source": [
        "x = pyo.value(model2.x)\n",
        "y = pyo.value(model2.y)\n",
        "print(\"Optimal Solution:\")\n",
        "print(\"x =\", x)\n",
        "print(\"y =\", y)"
      ],
      "metadata": {
        "colab": {
          "base_uri": "https://localhost:8080/"
        },
        "id": "_TwMczPFm6kD",
        "outputId": "9db42a1f-959d-45d0-88bc-0e0e93eaac56"
      },
      "execution_count": 37,
      "outputs": [
        {
          "output_type": "stream",
          "name": "stdout",
          "text": [
            "Optimal Solution:\n",
            "x = -3.0\n",
            "y = 0.0\n"
          ]
        }
      ]
    },
    {
      "cell_type": "code",
      "source": [
        "! pyomo help --solvers"
      ],
      "metadata": {
        "colab": {
          "base_uri": "https://localhost:8080/"
        },
        "id": "087hLrJDoe0J",
        "outputId": "892de0ae-d12c-4255-bc9e-6e951117aaef"
      },
      "execution_count": 38,
      "outputs": [
        {
          "output_type": "stream",
          "name": "stdout",
          "text": [
            "\n",
            "Pyomo Solvers and Solver Managers\n",
            "---------------------------------\n",
            "Pyomo uses 'solver managers' to execute 'solvers' that perform\n",
            "optimization and other forms of model analysis.  A solver directly\n",
            "executes an optimizer, typically using an executable found on the\n",
            "user's PATH environment.  Solver managers support a flexible mechanism\n",
            "for asynchronously executing solvers either locally or remotely.  The\n",
            "following solver managers are available in Pyomo:\n",
            "\n",
            "    neos       Asynchronously execute solvers on the NEOS server\n",
            "    serial     Synchronously execute solvers locally\n",
            "\n",
            "If no solver manager is specified, Pyomo uses the serial solver\n",
            "manager to execute solvers locally.  The neos solver manager is used\n",
            "to execute solvers on the NEOS optimization server.\n",
            "\n",
            "\n",
            "Serial Solver Interfaces\n",
            "------------------------\n",
            "The serial manager supports the following solver interfaces:\n",
            "\n",
            "    appsi_cbc                    Automated persistent interface to Cbc\n",
            "   +appsi_cplex          22.1.2  Automated persistent interface to\n",
            "                                 Cplex\n",
            "   +appsi_gurobi         12.0.3  Automated persistent interface to\n",
            "                                 Gurobi\n",
            "    appsi_highs                  Automated persistent interface to\n",
            "                                 Highs\n",
            "   +appsi_ipopt          3.14.17 Automated persistent interface to\n",
            "                                 Ipopt\n",
            "    appsi_maingo                 Automated persistent interface to\n",
            "                                 MAiNGO\n",
            "   *asl                          Interface for solvers using the AMPL\n",
            "                                 Solver Library\n",
            "    baron                        The BARON MINLP solver\n",
            "    cbc                          The CBC LP/MIP solver\n",
            "    conopt                       The CONOPT NLP solver\n",
            "    contrib.gjh                  Interface to the AMPL GJH \"solver\"\n",
            "    cp_optimizer                 Direct interface to CPLEX CP\n",
            "                                 Optimizer\n",
            "    cplex                        The CPLEX LP/MIP solver\n",
            "   +cplex_direct         22.1.2  Direct python interface to CPLEX\n",
            "   +cplex_persistent     22.1.2  Persistent python interface to CPLEX\n",
            "    cyipopt                      Cyipopt: direct python bindings to\n",
            "                                 the Ipopt NLP solver\n",
            "    gams                         The GAMS modeling language\n",
            "   +gdpopt               22.5.13 The GDPopt decomposition-based\n",
            "                                 Generalized Disjunctive Programming\n",
            "                                 (GDP) solver\n",
            "   +gdpopt.enumerate     22.5.13 Generalized Disjunctive Programming\n",
            "                                 (GDP) solver that enumerates all\n",
            "                                 discrete solutions\n",
            "   +gdpopt.gloa          22.5.13 The GLOA (global logic-based outer\n",
            "                                 approximation) Generalized\n",
            "                                 Disjunctive Programming (GDP) solver\n",
            "   +gdpopt.lbb           22.5.13 The LBB (logic-based branch and\n",
            "                                 bound) Generalized Disjunctive\n",
            "                                 Programming (GDP) solver\n",
            "   +gdpopt.ldsda         22.5.13 The LD-SDA (Logic-based Discrete-\n",
            "                                 Steepest Descent Algorithm)\n",
            "                                 Generalized Disjunctive Programming\n",
            "                                 (GDP) solver\n",
            "   +gdpopt.loa           22.5.13 The LOA (logic-based outer\n",
            "                                 approximation) Generalized\n",
            "                                 Disjunctive Programming (GDP) solver\n",
            "   +gdpopt.ric           22.5.13 The RIC (relaxation with integer\n",
            "                                 cuts) Generalized Disjunctive\n",
            "                                 Programming (GDP) solver\n",
            "   +glpk                 5.0     The GLPK LP/MIP solver\n",
            "   +gurobi               12.0.3  The GUROBI LP/MIP solver\n",
            "   +gurobi_direct        12.0.3  Direct python interface to Gurobi\n",
            "   +gurobi_direct_v2     12.0.3  Direct (scipy-based) interface to\n",
            "                                 Gurobi (new interface)\n",
            "   +gurobi_persistent    12.0.3  Persistent python interface to Gurobi\n",
            "   +gurobi_persistent_v2 12.0.3  Persistent interface to Gurobi (new\n",
            "                                 interface)\n",
            "    highs                        Persistent interface to HiGHS (new\n",
            "                                 interface)\n",
            "   +ipopt                3.14.17 The Ipopt NLP solver\n",
            "   +ipopt_v2             3.14.17 The IPOPT NLP solver (new interface)\n",
            "    knitroampl                   The Knitro solver for NLP/MINLP and\n",
            "                                 their subclasses\n",
            "   +mindtpy              1.0     MindtPy: Mixed-Integer Nonlinear\n",
            "                                 Decomposition Toolbox in Pyomo\n",
            "   +mindtpy.ecp          1.0     MindtPy: Mixed-Integer Nonlinear\n",
            "                                 Decomposition Toolbox in Pyomo\n",
            "   +mindtpy.fp           1.0     MindtPy: Mixed-Integer Nonlinear\n",
            "                                 Decomposition Toolbox in Pyomo\n",
            "   +mindtpy.goa          1.0     MindtPy: Mixed-Integer Nonlinear\n",
            "                                 Decomposition Toolbox in Pyomo\n",
            "   +mindtpy.oa           1.0     MindtPy: Mixed-Integer Nonlinear\n",
            "                                 Decomposition Toolbox in Pyomo\n",
            "    mosek                        The MOSEK LP/QP/SOCP/MIP solver\n",
            "    mosek_direct                 Direct python interface to MOSEK\n",
            "    mosek_persistent             Persistent python interface to MOSEK.\n",
            "   +mpec_minlp                   MPEC solver transforms to a MINLP\n",
            "   +mpec_nlp                     MPEC solver that optimizes a\n",
            "                                 nonlinear transformation\n",
            "   +multistart                   MultiStart solver for NLPs\n",
            "    path                         Nonlinear MCP solver\n",
            "   *py                           Direct python solver interfaces\n",
            "    sas                          The SAS LP/MIP solver\n",
            "   +scip                 9.2.2   The SCIP LP/MIP solver\n",
            "    scipy.fsolve                 fsolve: A SciPy wrapper around\n",
            "                                 MINPACK's hybrd and hybrj algorithms\n",
            "    scipy.newton                 newton: Find a zero of a scalar-\n",
            "                                 valued function\n",
            "    scipy.root                   root: Find the root of a vector\n",
            "                                 function\n",
            "    scipy.secant-newton          secant-newton: Take a few secant\n",
            "                                 iterations to try to converge a\n",
            "                                 potentially linear equation quickly,\n",
            "                                 then switch to Newton's method\n",
            "   +trustregion          0.2     Trust region algorithm \"solver\" for\n",
            "                                 black box/glass box optimization\n",
            "    xpress                       The XPRESS LP/MIP solver\n",
            "    xpress_direct                Direct python interface to XPRESS\n",
            "    xpress_persistent            Persistent python interface to Xpress\n",
            "\n",
            "The leading symbol (one of *, -, +) indicates the current solver\n",
            "availability.  A plus (+) indicates the solver is currently available\n",
            "to be run from Pyomo with the serial solver manager, and (if\n",
            "applicable) has a valid license.  A minus (-) indicates the solver\n",
            "executables are available but do not report having a valid license.\n",
            "The solver may still be usable in an unlicensed or \"demo\" mode for\n",
            "limited problem sizes. An asterisk (*) indicates meta-solvers or\n",
            "generic interfaces, which are always available.\n",
            "\n",
            "Pyomo also supports solver interfaces that are wrappers around third-\n",
            "party solver interfaces. These interfaces require a subsolver\n",
            "specification that indicates the solver being executed.  For example,\n",
            "the following indicates that the ipopt solver will be used:\n",
            "\n",
            "   asl:ipopt\n",
            "\n",
            "The asl interface provides a generic wrapper for all solvers that use\n",
            "the AMPL Solver Library.\n",
            "\n",
            "Note that subsolvers can not be enumerated automatically for these\n",
            "interfaces.  However, if a solver is specified that is not found,\n",
            "Pyomo assumes that the asl solver interface is being used.  Thus the\n",
            "following solver name will launch ipopt if the 'ipopt' executable is\n",
            "on the user's path:\n",
            "\n",
            "   ipopt\n",
            "\n",
            "\n",
            "NEOS Solver Interfaces\n",
            "----------------------\n",
            "The neos solver manager supports solver interfaces that can be\n",
            "executed remotely on the NEOS optimization server.  The following\n",
            "solver interfaces are available with your current system\n",
            "configuration:\n",
            "\n",
            "    baron        Deterministic global MINLP solver\n",
            "    bonmin       Deterministic local MINLP solver\n",
            "    cbc          MILP solver\n",
            "    conopt       Feasible path NLP solver\n",
            "    couenne      Deterministic global MINLP solver\n",
            "    cplex        MILP solver\n",
            "    filmint      Deterministic local MINLP solver\n",
            "    filter       SQP NLP solver\n",
            "    ipopt        Interior point NLP solver\n",
            "    knitro       Convex NLP/MINLP solver\n",
            "    l-bfgs-b     Bound-constrained NLP solver\n",
            "    lancelot     Augmented Lagrangian NLP solver\n",
            "    lgo          Lipschitz-Continuous Global Optimizer\n",
            "    loqo         Interior point NLP solver\n",
            "    minlp        Deterministic local MINLP solver\n",
            "    minos        NLP solver\n",
            "    minto        MILP solver\n",
            "    mosek        Interior point NLP solver\n",
            "    ooqp         Convex QP solver\n",
            "    path         Nonlinear MCP solver\n",
            "    raposa       A Global Solver for Polynomial Programming Problems\n",
            "    snopt        SQP NLP solver\n",
            "\n"
          ]
        }
      ]
    }
  ]
}