{
  "nbformat": 4,
  "nbformat_minor": 0,
  "metadata": {
    "colab": {
      "provenance": []
    },
    "kernelspec": {
      "name": "python3",
      "display_name": "Python 3"
    },
    "language_info": {
      "name": "python"
    }
  },
  "cells": [
    {
      "cell_type": "markdown",
      "source": [
        "# Traveling Salesman Optimization"
      ],
      "metadata": {
        "id": "Jv9Ao9fmQmuH"
      }
    },
    {
      "cell_type": "markdown",
      "source": [
        "### Objective Function\n",
        "\n",
        "<center> $\\min \\sum_{j} \\sum_{i}C_{ij} \\times b_{ij}$</center>\n",
        "\n",
        "**Note 1:** We set $C_{ii}$ to be a very large number $M$ relative to other distances so that the solver does not select the city where it currently is as the next city to travel to.\n",
        "\n",
        "**Note 2:** Any set of $b_{ij}$'s containing a subtour (i.e. skipping other cities and coming back. For example, City 3 --> City 4 --> City 3) will not be allowed.\n",
        "\n",
        "We make use of the following equation:\n",
        "\n",
        "<center> $u_i-u_j+Nb_{ij}\\le N-1$\n",
        "\n",
        "for $i\\ne j$\n",
        "\n",
        "$i=2,3,...N$\n",
        "\n",
        "$j=2,3,...N$\n",
        "\n",
        "$u_j \\ge 0$</center>\n",
        "\n",
        "Where $N$ is the total number of cities (in this case, $5$).\n",
        "\n",
        "An example (City 3 --> City 4 --> City 3):\n",
        "\n",
        "<center> $u_3-u_4+5b_{34}\\le (5-1)=4$</center>\n",
        "\n",
        "<center> $u_4-u_3+5b_{43}\\le (5-1)=4$</center>\n",
        "\n",
        "<center> $5(b_{34}+b_{43})\\le =8$</center>\n",
        "\n",
        "If both $b_{34}$ and $b_{43}$ are $1$, the inequality is $False\n",
        "$. Therefore, we cannot travel to a city where we have already been.\n",
        "\n",
        "**Note 3:** The following constraints are required so that we leave a city only once and enter a city only once.\n",
        "\n",
        "<center> $\\sum_{i} b_{ij}=1\\space\\space\\space\\space\\sum_{j} b_{ij}=1$</center>\n"
      ],
      "metadata": {
        "id": "HlKsw8ibPkAK"
      }
    },
    {
      "cell_type": "code",
      "source": [
        "! pip install -q pyomo\n",
        "! pip install cplex -q\n",
        "!apt-get install -y -qq coinor-cbc"
      ],
      "metadata": {
        "id": "QU4RWsXHuZFy",
        "collapsed": true
      },
      "execution_count": 1,
      "outputs": []
    },
    {
      "cell_type": "code",
      "source": [
        "from google.colab import drive\n",
        "drive.mount('/content/drive')"
      ],
      "metadata": {
        "colab": {
          "base_uri": "https://localhost:8080/"
        },
        "id": "qcwR3mHbAY05",
        "outputId": "1360df38-2564-4a95-8fa3-264f4481aa34"
      },
      "execution_count": 2,
      "outputs": [
        {
          "output_type": "stream",
          "name": "stdout",
          "text": [
            "Drive already mounted at /content/drive; to attempt to forcibly remount, call drive.mount(\"/content/drive\", force_remount=True).\n"
          ]
        }
      ]
    },
    {
      "cell_type": "code",
      "source": [
        "import pandas as pd\n",
        "\n",
        "\n",
        "# Load the Excel file with data and parameters we will need\n",
        "xls = pd.ExcelFile('/content/drive/MyDrive/Colab Notebooks/Optimization with Python/Linear Programming/Traveling Salesman Problem/TSP_Data.xlsx')\n",
        "\n",
        "# Read each sheet\n",
        "distances = xls.parse('TSP', index_col = 'Unnamed: 0')\n",
        "distances.head()"
      ],
      "metadata": {
        "id": "qFCt_uWhf7Ss",
        "colab": {
          "base_uri": "https://localhost:8080/",
          "height": 204
        },
        "outputId": "b5633b1f-27b8-4b68-af88-ed77dbaf363c"
      },
      "execution_count": 3,
      "outputs": [
        {
          "output_type": "execute_result",
          "data": {
            "text/plain": [
              "         City1    City2    City3    City4    City5\n",
              "City1  1000000      132      217      164       58\n",
              "City2      132  1000000      290      201       79\n",
              "City3      217      290  1000000      113      303\n",
              "City4      164      201      113  1000000      196\n",
              "City5       58       79      303      196  1000000"
            ],
            "text/html": [
              "\n",
              "  <div id=\"df-0cf54ab6-3378-4da3-b81e-f9b1d9605c9c\" class=\"colab-df-container\">\n",
              "    <div>\n",
              "<style scoped>\n",
              "    .dataframe tbody tr th:only-of-type {\n",
              "        vertical-align: middle;\n",
              "    }\n",
              "\n",
              "    .dataframe tbody tr th {\n",
              "        vertical-align: top;\n",
              "    }\n",
              "\n",
              "    .dataframe thead th {\n",
              "        text-align: right;\n",
              "    }\n",
              "</style>\n",
              "<table border=\"1\" class=\"dataframe\">\n",
              "  <thead>\n",
              "    <tr style=\"text-align: right;\">\n",
              "      <th></th>\n",
              "      <th>City1</th>\n",
              "      <th>City2</th>\n",
              "      <th>City3</th>\n",
              "      <th>City4</th>\n",
              "      <th>City5</th>\n",
              "    </tr>\n",
              "  </thead>\n",
              "  <tbody>\n",
              "    <tr>\n",
              "      <th>City1</th>\n",
              "      <td>1000000</td>\n",
              "      <td>132</td>\n",
              "      <td>217</td>\n",
              "      <td>164</td>\n",
              "      <td>58</td>\n",
              "    </tr>\n",
              "    <tr>\n",
              "      <th>City2</th>\n",
              "      <td>132</td>\n",
              "      <td>1000000</td>\n",
              "      <td>290</td>\n",
              "      <td>201</td>\n",
              "      <td>79</td>\n",
              "    </tr>\n",
              "    <tr>\n",
              "      <th>City3</th>\n",
              "      <td>217</td>\n",
              "      <td>290</td>\n",
              "      <td>1000000</td>\n",
              "      <td>113</td>\n",
              "      <td>303</td>\n",
              "    </tr>\n",
              "    <tr>\n",
              "      <th>City4</th>\n",
              "      <td>164</td>\n",
              "      <td>201</td>\n",
              "      <td>113</td>\n",
              "      <td>1000000</td>\n",
              "      <td>196</td>\n",
              "    </tr>\n",
              "    <tr>\n",
              "      <th>City5</th>\n",
              "      <td>58</td>\n",
              "      <td>79</td>\n",
              "      <td>303</td>\n",
              "      <td>196</td>\n",
              "      <td>1000000</td>\n",
              "    </tr>\n",
              "  </tbody>\n",
              "</table>\n",
              "</div>\n",
              "    <div class=\"colab-df-buttons\">\n",
              "\n",
              "  <div class=\"colab-df-container\">\n",
              "    <button class=\"colab-df-convert\" onclick=\"convertToInteractive('df-0cf54ab6-3378-4da3-b81e-f9b1d9605c9c')\"\n",
              "            title=\"Convert this dataframe to an interactive table.\"\n",
              "            style=\"display:none;\">\n",
              "\n",
              "  <svg xmlns=\"http://www.w3.org/2000/svg\" height=\"24px\" viewBox=\"0 -960 960 960\">\n",
              "    <path d=\"M120-120v-720h720v720H120Zm60-500h600v-160H180v160Zm220 220h160v-160H400v160Zm0 220h160v-160H400v160ZM180-400h160v-160H180v160Zm440 0h160v-160H620v160ZM180-180h160v-160H180v160Zm440 0h160v-160H620v160Z\"/>\n",
              "  </svg>\n",
              "    </button>\n",
              "\n",
              "  <style>\n",
              "    .colab-df-container {\n",
              "      display:flex;\n",
              "      gap: 12px;\n",
              "    }\n",
              "\n",
              "    .colab-df-convert {\n",
              "      background-color: #E8F0FE;\n",
              "      border: none;\n",
              "      border-radius: 50%;\n",
              "      cursor: pointer;\n",
              "      display: none;\n",
              "      fill: #1967D2;\n",
              "      height: 32px;\n",
              "      padding: 0 0 0 0;\n",
              "      width: 32px;\n",
              "    }\n",
              "\n",
              "    .colab-df-convert:hover {\n",
              "      background-color: #E2EBFA;\n",
              "      box-shadow: 0px 1px 2px rgba(60, 64, 67, 0.3), 0px 1px 3px 1px rgba(60, 64, 67, 0.15);\n",
              "      fill: #174EA6;\n",
              "    }\n",
              "\n",
              "    .colab-df-buttons div {\n",
              "      margin-bottom: 4px;\n",
              "    }\n",
              "\n",
              "    [theme=dark] .colab-df-convert {\n",
              "      background-color: #3B4455;\n",
              "      fill: #D2E3FC;\n",
              "    }\n",
              "\n",
              "    [theme=dark] .colab-df-convert:hover {\n",
              "      background-color: #434B5C;\n",
              "      box-shadow: 0px 1px 3px 1px rgba(0, 0, 0, 0.15);\n",
              "      filter: drop-shadow(0px 1px 2px rgba(0, 0, 0, 0.3));\n",
              "      fill: #FFFFFF;\n",
              "    }\n",
              "  </style>\n",
              "\n",
              "    <script>\n",
              "      const buttonEl =\n",
              "        document.querySelector('#df-0cf54ab6-3378-4da3-b81e-f9b1d9605c9c button.colab-df-convert');\n",
              "      buttonEl.style.display =\n",
              "        google.colab.kernel.accessAllowed ? 'block' : 'none';\n",
              "\n",
              "      async function convertToInteractive(key) {\n",
              "        const element = document.querySelector('#df-0cf54ab6-3378-4da3-b81e-f9b1d9605c9c');\n",
              "        const dataTable =\n",
              "          await google.colab.kernel.invokeFunction('convertToInteractive',\n",
              "                                                    [key], {});\n",
              "        if (!dataTable) return;\n",
              "\n",
              "        const docLinkHtml = 'Like what you see? Visit the ' +\n",
              "          '<a target=\"_blank\" href=https://colab.research.google.com/notebooks/data_table.ipynb>data table notebook</a>'\n",
              "          + ' to learn more about interactive tables.';\n",
              "        element.innerHTML = '';\n",
              "        dataTable['output_type'] = 'display_data';\n",
              "        await google.colab.output.renderOutput(dataTable, element);\n",
              "        const docLink = document.createElement('div');\n",
              "        docLink.innerHTML = docLinkHtml;\n",
              "        element.appendChild(docLink);\n",
              "      }\n",
              "    </script>\n",
              "  </div>\n",
              "\n",
              "\n",
              "    <div id=\"df-dfc35235-de05-4489-a438-5921c9362ade\">\n",
              "      <button class=\"colab-df-quickchart\" onclick=\"quickchart('df-dfc35235-de05-4489-a438-5921c9362ade')\"\n",
              "                title=\"Suggest charts\"\n",
              "                style=\"display:none;\">\n",
              "\n",
              "<svg xmlns=\"http://www.w3.org/2000/svg\" height=\"24px\"viewBox=\"0 0 24 24\"\n",
              "     width=\"24px\">\n",
              "    <g>\n",
              "        <path d=\"M19 3H5c-1.1 0-2 .9-2 2v14c0 1.1.9 2 2 2h14c1.1 0 2-.9 2-2V5c0-1.1-.9-2-2-2zM9 17H7v-7h2v7zm4 0h-2V7h2v10zm4 0h-2v-4h2v4z\"/>\n",
              "    </g>\n",
              "</svg>\n",
              "      </button>\n",
              "\n",
              "<style>\n",
              "  .colab-df-quickchart {\n",
              "      --bg-color: #E8F0FE;\n",
              "      --fill-color: #1967D2;\n",
              "      --hover-bg-color: #E2EBFA;\n",
              "      --hover-fill-color: #174EA6;\n",
              "      --disabled-fill-color: #AAA;\n",
              "      --disabled-bg-color: #DDD;\n",
              "  }\n",
              "\n",
              "  [theme=dark] .colab-df-quickchart {\n",
              "      --bg-color: #3B4455;\n",
              "      --fill-color: #D2E3FC;\n",
              "      --hover-bg-color: #434B5C;\n",
              "      --hover-fill-color: #FFFFFF;\n",
              "      --disabled-bg-color: #3B4455;\n",
              "      --disabled-fill-color: #666;\n",
              "  }\n",
              "\n",
              "  .colab-df-quickchart {\n",
              "    background-color: var(--bg-color);\n",
              "    border: none;\n",
              "    border-radius: 50%;\n",
              "    cursor: pointer;\n",
              "    display: none;\n",
              "    fill: var(--fill-color);\n",
              "    height: 32px;\n",
              "    padding: 0;\n",
              "    width: 32px;\n",
              "  }\n",
              "\n",
              "  .colab-df-quickchart:hover {\n",
              "    background-color: var(--hover-bg-color);\n",
              "    box-shadow: 0 1px 2px rgba(60, 64, 67, 0.3), 0 1px 3px 1px rgba(60, 64, 67, 0.15);\n",
              "    fill: var(--button-hover-fill-color);\n",
              "  }\n",
              "\n",
              "  .colab-df-quickchart-complete:disabled,\n",
              "  .colab-df-quickchart-complete:disabled:hover {\n",
              "    background-color: var(--disabled-bg-color);\n",
              "    fill: var(--disabled-fill-color);\n",
              "    box-shadow: none;\n",
              "  }\n",
              "\n",
              "  .colab-df-spinner {\n",
              "    border: 2px solid var(--fill-color);\n",
              "    border-color: transparent;\n",
              "    border-bottom-color: var(--fill-color);\n",
              "    animation:\n",
              "      spin 1s steps(1) infinite;\n",
              "  }\n",
              "\n",
              "  @keyframes spin {\n",
              "    0% {\n",
              "      border-color: transparent;\n",
              "      border-bottom-color: var(--fill-color);\n",
              "      border-left-color: var(--fill-color);\n",
              "    }\n",
              "    20% {\n",
              "      border-color: transparent;\n",
              "      border-left-color: var(--fill-color);\n",
              "      border-top-color: var(--fill-color);\n",
              "    }\n",
              "    30% {\n",
              "      border-color: transparent;\n",
              "      border-left-color: var(--fill-color);\n",
              "      border-top-color: var(--fill-color);\n",
              "      border-right-color: var(--fill-color);\n",
              "    }\n",
              "    40% {\n",
              "      border-color: transparent;\n",
              "      border-right-color: var(--fill-color);\n",
              "      border-top-color: var(--fill-color);\n",
              "    }\n",
              "    60% {\n",
              "      border-color: transparent;\n",
              "      border-right-color: var(--fill-color);\n",
              "    }\n",
              "    80% {\n",
              "      border-color: transparent;\n",
              "      border-right-color: var(--fill-color);\n",
              "      border-bottom-color: var(--fill-color);\n",
              "    }\n",
              "    90% {\n",
              "      border-color: transparent;\n",
              "      border-bottom-color: var(--fill-color);\n",
              "    }\n",
              "  }\n",
              "</style>\n",
              "\n",
              "      <script>\n",
              "        async function quickchart(key) {\n",
              "          const quickchartButtonEl =\n",
              "            document.querySelector('#' + key + ' button');\n",
              "          quickchartButtonEl.disabled = true;  // To prevent multiple clicks.\n",
              "          quickchartButtonEl.classList.add('colab-df-spinner');\n",
              "          try {\n",
              "            const charts = await google.colab.kernel.invokeFunction(\n",
              "                'suggestCharts', [key], {});\n",
              "          } catch (error) {\n",
              "            console.error('Error during call to suggestCharts:', error);\n",
              "          }\n",
              "          quickchartButtonEl.classList.remove('colab-df-spinner');\n",
              "          quickchartButtonEl.classList.add('colab-df-quickchart-complete');\n",
              "        }\n",
              "        (() => {\n",
              "          let quickchartButtonEl =\n",
              "            document.querySelector('#df-dfc35235-de05-4489-a438-5921c9362ade button');\n",
              "          quickchartButtonEl.style.display =\n",
              "            google.colab.kernel.accessAllowed ? 'block' : 'none';\n",
              "        })();\n",
              "      </script>\n",
              "    </div>\n",
              "\n",
              "    </div>\n",
              "  </div>\n"
            ],
            "application/vnd.google.colaboratory.intrinsic+json": {
              "type": "dataframe",
              "variable_name": "distances",
              "summary": "{\n  \"name\": \"distances\",\n  \"rows\": 5,\n  \"fields\": [\n    {\n      \"column\": \"City1\",\n      \"properties\": {\n        \"dtype\": \"number\",\n        \"std\": 447149,\n        \"min\": 58,\n        \"max\": 1000000,\n        \"num_unique_values\": 5,\n        \"samples\": [\n          132,\n          58,\n          217\n        ],\n        \"semantic_type\": \"\",\n        \"description\": \"\"\n      }\n    },\n    {\n      \"column\": \"City2\",\n      \"properties\": {\n        \"dtype\": \"number\",\n        \"std\": 447135,\n        \"min\": 79,\n        \"max\": 1000000,\n        \"num_unique_values\": 5,\n        \"samples\": [\n          1000000,\n          79,\n          290\n        ],\n        \"semantic_type\": \"\",\n        \"description\": \"\"\n      }\n    },\n    {\n      \"column\": \"City3\",\n      \"properties\": {\n        \"dtype\": \"number\",\n        \"std\": 447110,\n        \"min\": 113,\n        \"max\": 1000000,\n        \"num_unique_values\": 5,\n        \"samples\": [\n          290,\n          303,\n          1000000\n        ],\n        \"semantic_type\": \"\",\n        \"description\": \"\"\n      }\n    },\n    {\n      \"column\": \"City4\",\n      \"properties\": {\n        \"dtype\": \"number\",\n        \"std\": 447138,\n        \"min\": 113,\n        \"max\": 1000000,\n        \"num_unique_values\": 5,\n        \"samples\": [\n          201,\n          196,\n          113\n        ],\n        \"semantic_type\": \"\",\n        \"description\": \"\"\n      }\n    },\n    {\n      \"column\": \"City5\",\n      \"properties\": {\n        \"dtype\": \"number\",\n        \"std\": 447142,\n        \"min\": 58,\n        \"max\": 1000000,\n        \"num_unique_values\": 5,\n        \"samples\": [\n          79,\n          1000000,\n          303\n        ],\n        \"semantic_type\": \"\",\n        \"description\": \"\"\n      }\n    }\n  ]\n}"
            }
          },
          "metadata": {},
          "execution_count": 3
        }
      ]
    },
    {
      "cell_type": "code",
      "source": [
        "city_distance_dict = {}\n",
        "\n",
        "for i in range(len(distances)):\n",
        "  for j in range(len(distances.columns)):\n",
        "    city_distance_dict[(i,j)] = distances.iloc[i,j]"
      ],
      "metadata": {
        "id": "6_0oFqEd8msQ"
      },
      "execution_count": 4,
      "outputs": []
    },
    {
      "cell_type": "code",
      "source": [
        "city_distance_dict"
      ],
      "metadata": {
        "colab": {
          "base_uri": "https://localhost:8080/"
        },
        "id": "YJFT8PCkDFiu",
        "outputId": "27a78d6f-67a6-4854-d439-8154d3838049"
      },
      "execution_count": 5,
      "outputs": [
        {
          "output_type": "execute_result",
          "data": {
            "text/plain": [
              "{(0, 0): np.int64(1000000),\n",
              " (0, 1): np.int64(132),\n",
              " (0, 2): np.int64(217),\n",
              " (0, 3): np.int64(164),\n",
              " (0, 4): np.int64(58),\n",
              " (1, 0): np.int64(132),\n",
              " (1, 1): np.int64(1000000),\n",
              " (1, 2): np.int64(290),\n",
              " (1, 3): np.int64(201),\n",
              " (1, 4): np.int64(79),\n",
              " (2, 0): np.int64(217),\n",
              " (2, 1): np.int64(290),\n",
              " (2, 2): np.int64(1000000),\n",
              " (2, 3): np.int64(113),\n",
              " (2, 4): np.int64(303),\n",
              " (3, 0): np.int64(164),\n",
              " (3, 1): np.int64(201),\n",
              " (3, 2): np.int64(113),\n",
              " (3, 3): np.int64(1000000),\n",
              " (3, 4): np.int64(196),\n",
              " (4, 0): np.int64(58),\n",
              " (4, 1): np.int64(79),\n",
              " (4, 2): np.int64(303),\n",
              " (4, 3): np.int64(196),\n",
              " (4, 4): np.int64(1000000)}"
            ]
          },
          "metadata": {},
          "execution_count": 5
        }
      ]
    },
    {
      "cell_type": "markdown",
      "source": [
        "Set up the sets and parameters"
      ],
      "metadata": {
        "id": "Mua4JfTLuzX6"
      }
    },
    {
      "cell_type": "code",
      "source": [
        "from pyomo.environ import *\n",
        "\n",
        "model = ConcreteModel()\n",
        "\n",
        "model.i = Set(initialize=set(range(len(distances))))\n",
        "model.j = Set(initialize=set(range(len(distances.columns))))\n",
        "model.ii = Set(initialize=set(range(1,len(distances))), ordered=True)\n",
        "\n",
        "i = model.i\n",
        "j = model.j\n",
        "ii = model.ii\n",
        "\n",
        "model.C = Param(i, j, initialize=city_distance_dict)\n",
        "C = model.C\n",
        "\n"
      ],
      "metadata": {
        "id": "MOMEhMBU_cRo",
        "colab": {
          "base_uri": "https://localhost:8080/"
        },
        "outputId": "91d2bf5d-3cc9-431e-f459-ca38355320ff"
      },
      "execution_count": 6,
      "outputs": [
        {
          "output_type": "stream",
          "name": "stderr",
          "text": [
            "WARNING:pyomo.core:Initializing ordered Set i with a fundamentally unordered data source (type: set).  This WILL potentially lead to nondeterministic behavior in Pyomo\n",
            "WARNING:pyomo.core:Initializing ordered Set j with a fundamentally unordered data source (type: set).  This WILL potentially lead to nondeterministic behavior in Pyomo\n",
            "WARNING:pyomo.core:Initializing ordered Set ii with a fundamentally unordered data source (type: set).  This WILL potentially lead to nondeterministic behavior in Pyomo\n"
          ]
        }
      ]
    },
    {
      "cell_type": "markdown",
      "source": [
        "Set up the decision variabless"
      ],
      "metadata": {
        "id": "w9h4pcQ1PJCT"
      }
    },
    {
      "cell_type": "code",
      "source": [
        "model.b = Var(i, j, domain=Binary)\n",
        "b = model.b\n",
        "\n",
        "model.u = Var(i, domain=NonNegativeIntegers)  # to avoid subtour\n",
        "u = model.u"
      ],
      "metadata": {
        "id": "2wYGyruCPLrb"
      },
      "execution_count": 7,
      "outputs": []
    },
    {
      "cell_type": "markdown",
      "source": [
        "Set up the objective function"
      ],
      "metadata": {
        "id": "mZ975p9dZTO7"
      }
    },
    {
      "cell_type": "code",
      "source": [
        "def objective_function(model):\n",
        "  return sum(model.C[i,j] * model.b[i,j] for i in model.i for j in model.j)\n",
        "\n",
        "model.obj = Objective(expr=objective_function, sense=minimize)"
      ],
      "metadata": {
        "id": "SfFryZQrZYk7"
      },
      "execution_count": 8,
      "outputs": []
    },
    {
      "cell_type": "markdown",
      "source": [
        "Define the first two constraints:"
      ],
      "metadata": {
        "id": "14eO58i7Z2NR"
      }
    },
    {
      "cell_type": "code",
      "source": [
        "model.C1 = Constraint(i, rule=lambda model, i: sum(model.b[i,j] for j in model.j) == 1)\n",
        "model.C2 = Constraint(j, rule=lambda model, j: sum(model.b[i,j] for i in model.i) == 1)"
      ],
      "metadata": {
        "id": "-QT-6FwwZ5Yd"
      },
      "execution_count": 9,
      "outputs": []
    },
    {
      "cell_type": "code",
      "source": [
        "def Constraint3(model,i,j):\n",
        "  if i != j:\n",
        "    return u[i] - u[j] + len(distances) * model.b[i,j] <= len(distances) - 1\n",
        "  else:\n",
        "    return u[i] - u[j] == 0\n",
        "model.C3 = Constraint(ii,j, rule=Constraint3)\n",
        "\n",
        "model.C4 = Constraint(i, rule=lambda model, i: model.b[i,i] == 0)"
      ],
      "metadata": {
        "id": "Uiuray5QdYNY"
      },
      "execution_count": 10,
      "outputs": []
    },
    {
      "cell_type": "markdown",
      "source": [
        "Invoke the Solver"
      ],
      "metadata": {
        "id": "5HBIMm6iaodo"
      }
    },
    {
      "cell_type": "code",
      "source": [
        "solve = SolverFactory('cbc')\n",
        "results = solve.solve(model)\n",
        "print(results)"
      ],
      "metadata": {
        "colab": {
          "base_uri": "https://localhost:8080/"
        },
        "id": "wcxTYEBdaqVr",
        "outputId": "fff93099-ad21-4888-e57a-1054335920f0"
      },
      "execution_count": 11,
      "outputs": [
        {
          "output_type": "stream",
          "name": "stdout",
          "text": [
            "\n",
            "Problem: \n",
            "- Name: unknown\n",
            "  Lower bound: 668.0\n",
            "  Upper bound: 668.0\n",
            "  Number of objectives: 1\n",
            "  Number of constraints: 22\n",
            "  Number of variables: 24\n",
            "  Number of binary variables: 25\n",
            "  Number of integer variables: 30\n",
            "  Number of nonzeros: 20\n",
            "  Sense: minimize\n",
            "Solver: \n",
            "- Status: ok\n",
            "  User time: -1.0\n",
            "  System time: 0.04\n",
            "  Wallclock time: 0.1\n",
            "  Termination condition: optimal\n",
            "  Termination message: Model was solved to optimality (subject to tolerances), and an optimal solution is available.\n",
            "  Statistics: \n",
            "    Branch and bound: \n",
            "      Number of bounded subproblems: 0\n",
            "      Number of created subproblems: 0\n",
            "    Black box: \n",
            "      Number of iterations: 7\n",
            "  Error rc: 0\n",
            "  Time: 0.17798233032226562\n",
            "Solution: \n",
            "- number of solutions: 0\n",
            "  number of solutions displayed: 0\n",
            "\n"
          ]
        }
      ]
    },
    {
      "cell_type": "markdown",
      "source": [
        "Output solver solution results"
      ],
      "metadata": {
        "id": "xVcINtUYeZvP"
      }
    },
    {
      "cell_type": "code",
      "source": [
        "for i in model.i:\n",
        "  for j in model.j:\n",
        "    if model.b[i,j]() == 1:\n",
        "      print(f'City {i} to City {j}')\n",
        "\n",
        "print(f'\\nObjective Function (Total distance) = {model.obj()}')"
      ],
      "metadata": {
        "colab": {
          "base_uri": "https://localhost:8080/"
        },
        "id": "n7cJ5IUFefn6",
        "outputId": "fd4db06e-eaed-4e0b-e8d4-a66e4b893085"
      },
      "execution_count": 12,
      "outputs": [
        {
          "output_type": "stream",
          "name": "stdout",
          "text": [
            "City 0 to City 4\n",
            "City 1 to City 3\n",
            "City 2 to City 0\n",
            "City 3 to City 2\n",
            "City 4 to City 1\n",
            "\n",
            "Objective Function (Total distance) = 668.0\n"
          ]
        }
      ]
    }
  ]
}