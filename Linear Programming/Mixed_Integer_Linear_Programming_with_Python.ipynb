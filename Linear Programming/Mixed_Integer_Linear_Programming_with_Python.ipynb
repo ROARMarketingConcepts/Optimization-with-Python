{
  "nbformat": 4,
  "nbformat_minor": 0,
  "metadata": {
    "colab": {
      "provenance": []
    },
    "kernelspec": {
      "name": "python3",
      "display_name": "Python 3"
    },
    "language_info": {
      "name": "python"
    }
  },
  "cells": [
    {
      "cell_type": "markdown",
      "source": [
        "# MI Linear Programming with Python (SCIP, Gurobi, C-Plex, GLPK, CBC, PuLP)\n"
      ],
      "metadata": {
        "id": "5mesP1XaAQN9"
      }
    },
    {
      "cell_type": "markdown",
      "source": [
        "**An Example:** solve the following set of equations:\n",
        "\n",
        "<center>$\\large\\max(x+y),\\space$ subject to:\n",
        "\n",
        "\n",
        "$-x+2y\\le7$\n",
        "\n",
        "$2x+y\\le14$\n",
        "\n",
        "$2x-y\\le10$\n",
        "\n",
        "$0\\le x\\le10$\n",
        "\n",
        "$0\\le y\\le 10$</center>"
      ],
      "metadata": {
        "id": "qc8aAVxhBXSV"
      }
    },
    {
      "cell_type": "markdown",
      "source": [
        "#### Install Required Packages"
      ],
      "metadata": {
        "id": "yD04SWQrwCXS"
      }
    },
    {
      "cell_type": "code",
      "execution_count": 1,
      "metadata": {
        "id": "bqrpQkEwvi4l"
      },
      "outputs": [],
      "source": [
        "# ! pip install -U ortools"
      ]
    },
    {
      "cell_type": "code",
      "source": [
        "!pip install -q condacolab\n",
        "import condacolab\n",
        "condacolab.install()\n"
      ],
      "metadata": {
        "colab": {
          "base_uri": "https://localhost:8080/"
        },
        "id": "Z32E4cfOGIWr",
        "outputId": "1d02c63b-525f-4b96-9b92-c386b8fa65b1"
      },
      "execution_count": 2,
      "outputs": [
        {
          "output_type": "stream",
          "name": "stdout",
          "text": [
            "✨🍰✨ Everything looks OK!\n"
          ]
        }
      ]
    },
    {
      "cell_type": "code",
      "source": [
        "!conda install pyscipopt"
      ],
      "metadata": {
        "colab": {
          "base_uri": "https://localhost:8080/"
        },
        "collapsed": true,
        "id": "d3KsIappGiTw",
        "outputId": "50180d2b-1575-46a9-e3b3-46c9c122df13"
      },
      "execution_count": 3,
      "outputs": [
        {
          "output_type": "stream",
          "name": "stdout",
          "text": [
            "Channels:\n",
            " - conda-forge\n",
            "Platform: linux-64\n",
            "Collecting package metadata (repodata.json): - \b\b\\ \b\b| \b\b/ \b\b- \b\b\\ \b\b| \b\b/ \b\b- \b\b\\ \b\b| \b\b/ \b\b- \b\b\\ \b\b| \b\b/ \b\b- \b\b\\ \b\b| \b\b/ \b\b- \b\b\\ \b\b| \b\b/ \b\b- \b\b\\ \b\b| \b\b/ \b\b- \b\b\\ \b\b| \b\b/ \b\b- \b\b\\ \b\b| \b\b/ \b\b- \b\b\\ \b\b| \b\b/ \b\b- \b\b\\ \b\b| \b\b/ \b\b- \b\b\\ \b\b| \b\b/ \b\b- \b\b\\ \b\b| \b\b/ \b\b- \b\b\\ \b\b| \b\b/ \b\b- \b\b\\ \b\b| \b\b/ \b\b- \b\b\\ \b\b| \b\b/ \b\b- \b\b\\ \b\b| \b\b/ \b\b- \b\b\\ \b\b| \b\b/ \b\b- \b\b\\ \b\b| \b\b/ \b\b- \b\b\\ \b\bdone\n",
            "Solving environment: / \b\b- \b\b\\ \b\b| \b\bdone\n",
            "\n",
            "\n",
            "==> WARNING: A newer version of conda exists. <==\n",
            "    current version: 24.11.3\n",
            "    latest version: 25.7.0\n",
            "\n",
            "Please update conda by running\n",
            "\n",
            "    $ conda update -n base -c conda-forge conda\n",
            "\n",
            "\n",
            "\n",
            "# All requested packages already installed.\n",
            "\n"
          ]
        }
      ]
    },
    {
      "cell_type": "code",
      "source": [
        "from ortools.linear_solver import pywraplp"
      ],
      "metadata": {
        "id": "HbTnjYFSwJNu"
      },
      "execution_count": 4,
      "outputs": []
    },
    {
      "cell_type": "markdown",
      "source": [
        "#### Create the Solver instance using CBC optimizer."
      ],
      "metadata": {
        "id": "isYQa5PWwd5T"
      }
    },
    {
      "cell_type": "code",
      "source": [
        "solver = pywraplp.Solver.CreateSolver('CBC')  # GLOP does not support integer variables"
      ],
      "metadata": {
        "id": "g_hvLUVDwdQk"
      },
      "execution_count": 5,
      "outputs": []
    },
    {
      "cell_type": "markdown",
      "source": [
        "#### Enter the equations"
      ],
      "metadata": {
        "id": "EtxtFcAhBUH8"
      }
    },
    {
      "cell_type": "code",
      "source": [
        "x = solver.IntVar(0, 10, 'x')\n",
        "y = solver.NumVar(0, 10, 'y')\n",
        "\n",
        "solver.Add(-x + 2 * y <= 7.0)\n",
        "solver.Add(2 * x + y <= 14.0)\n",
        "solver.Add(2 * x - y <= 10.0)\n"
      ],
      "metadata": {
        "colab": {
          "base_uri": "https://localhost:8080/"
        },
        "id": "WJpntpmIBdiW",
        "outputId": "2113e317-1181-4fcf-9957-c932da6356dc"
      },
      "execution_count": 6,
      "outputs": [
        {
          "output_type": "execute_result",
          "data": {
            "text/plain": [
              "<ortools.linear_solver.pywraplp.Constraint; proxy of <Swig Object of type 'operations_research::MPConstraint *' at 0x7e5a10902cd0> >"
            ]
          },
          "metadata": {},
          "execution_count": 6
        }
      ]
    },
    {
      "cell_type": "markdown",
      "source": [
        "#### Enter the objective function"
      ],
      "metadata": {
        "id": "UCkhDDE3Buc6"
      }
    },
    {
      "cell_type": "code",
      "source": [
        "solver.Maximize(x + y)\n",
        "result = solver.Solve()"
      ],
      "metadata": {
        "id": "miBbP85tBsBg"
      },
      "execution_count": 7,
      "outputs": []
    },
    {
      "cell_type": "markdown",
      "source": [
        "#### Get solution"
      ],
      "metadata": {
        "id": "ezQvR722CKW6"
      }
    },
    {
      "cell_type": "code",
      "source": [
        "if result == pywraplp.Solver.OPTIMAL:\n",
        "    print('Solution:')\n",
        "    print('Objective value =', solver.Objective().Value())\n",
        "    print('x =', x.solution_value())\n",
        "    print('y =', y.solution_value())"
      ],
      "metadata": {
        "colab": {
          "base_uri": "https://localhost:8080/"
        },
        "id": "RXKYa6-ICHLr",
        "outputId": "c8329b96-6aa2-4622-8211-27fef4542bdb"
      },
      "execution_count": 8,
      "outputs": [
        {
          "output_type": "stream",
          "name": "stdout",
          "text": [
            "Solution:\n",
            "Objective value = 9.5\n",
            "x = 4.0\n",
            "y = 5.5\n"
          ]
        }
      ]
    },
    {
      "cell_type": "markdown",
      "source": [
        "## SCIP (Solving Constraint Integer Programs)"
      ],
      "metadata": {
        "id": "Fn3MqKvgHXw_"
      }
    },
    {
      "cell_type": "code",
      "source": [
        "from pyscipopt import Model\n",
        "\n",
        "model = Model(\"example\")"
      ],
      "metadata": {
        "id": "464OEwc9HGB5"
      },
      "execution_count": 9,
      "outputs": []
    },
    {
      "cell_type": "code",
      "source": [
        "x = model.addVar(vtype=\"I\", name=\"x\")  # specify x as integer variable\n",
        "y = model.addVar(vtype=\"C\", name=\"y\")\n",
        "\n",
        "model.setObjective(x + y, sense=\"maximize\")"
      ],
      "metadata": {
        "id": "KuBpW8HTHqUv"
      },
      "execution_count": 10,
      "outputs": []
    },
    {
      "cell_type": "code",
      "source": [
        "model.addCons(-x + 2 * y <= 7)\n",
        "model.addCons(2 * x + y <= 14)\n",
        "model.addCons(2 * x - y <= 10)"
      ],
      "metadata": {
        "colab": {
          "base_uri": "https://localhost:8080/"
        },
        "id": "oNKUv7WRH4pE",
        "outputId": "71e8ec34-365c-423d-e838-bfdf6fa484ed"
      },
      "execution_count": 11,
      "outputs": [
        {
          "output_type": "execute_result",
          "data": {
            "text/plain": [
              "c3"
            ]
          },
          "metadata": {},
          "execution_count": 11
        }
      ]
    },
    {
      "cell_type": "code",
      "source": [
        "model.optimize()\n",
        "\n",
        "solution = model.getBestSol()\n",
        "print(\"Optimal Solution:\")\n",
        "print(\"x =\", solution[x])\n",
        "print(\"y =\", solution[y])"
      ],
      "metadata": {
        "colab": {
          "base_uri": "https://localhost:8080/"
        },
        "id": "igDAqbKbH-4-",
        "outputId": "73a23a2b-e63d-4d3b-c7dd-89a04ceb9e69"
      },
      "execution_count": 12,
      "outputs": [
        {
          "output_type": "stream",
          "name": "stdout",
          "text": [
            "Optimal Solution:\n",
            "x = 4.0\n",
            "y = 5.5\n"
          ]
        }
      ]
    },
    {
      "cell_type": "markdown",
      "source": [
        "## Gurobi"
      ],
      "metadata": {
        "id": "vYnP82ovJa84"
      }
    },
    {
      "cell_type": "code",
      "source": [
        "!pip install gurobipy"
      ],
      "metadata": {
        "colab": {
          "base_uri": "https://localhost:8080/"
        },
        "id": "cyCka492JdCs",
        "outputId": "56f540a7-94ea-4f95-cd6f-198808a949de"
      },
      "execution_count": 13,
      "outputs": [
        {
          "output_type": "stream",
          "name": "stdout",
          "text": [
            "Requirement already satisfied: gurobipy in /usr/local/lib/python3.11/site-packages (12.0.3)\n"
          ]
        }
      ]
    },
    {
      "cell_type": "code",
      "source": [
        "! pip install pyomo"
      ],
      "metadata": {
        "colab": {
          "base_uri": "https://localhost:8080/"
        },
        "id": "0pyBbwGKJ7lq",
        "outputId": "abfbf40a-941e-4136-a0cf-e8c28baf5c8b"
      },
      "execution_count": 14,
      "outputs": [
        {
          "output_type": "stream",
          "name": "stdout",
          "text": [
            "Requirement already satisfied: pyomo in /usr/local/lib/python3.11/site-packages (6.9.3)\n",
            "Requirement already satisfied: ply in /usr/local/lib/python3.11/site-packages (from pyomo) (3.11)\n"
          ]
        }
      ]
    },
    {
      "cell_type": "code",
      "source": [
        "! pip install cplex"
      ],
      "metadata": {
        "colab": {
          "base_uri": "https://localhost:8080/"
        },
        "id": "6f5BgvExfapu",
        "outputId": "4bb89843-2edc-4732-d704-11ebe9b49d80"
      },
      "execution_count": 15,
      "outputs": [
        {
          "output_type": "stream",
          "name": "stdout",
          "text": [
            "Requirement already satisfied: cplex in /usr/local/lib/python3.11/site-packages (22.1.2.0)\n"
          ]
        }
      ]
    },
    {
      "cell_type": "code",
      "metadata": {
        "colab": {
          "base_uri": "https://localhost:8080/"
        },
        "id": "a9a66baf",
        "outputId": "fc7829ec-3de2-470a-e886-2618496243dc"
      },
      "source": [
        "!conda install -c conda-forge glpk"
      ],
      "execution_count": 16,
      "outputs": [
        {
          "output_type": "stream",
          "name": "stdout",
          "text": [
            "Channels:\n",
            " - conda-forge\n",
            "Platform: linux-64\n",
            "Collecting package metadata (repodata.json): - \b\b\\ \b\b| \b\b/ \b\b- \b\b\\ \b\b| \b\b/ \b\b- \b\b\\ \b\b| \b\b/ \b\b- \b\b\\ \b\bdone\n",
            "Solving environment: / \b\b- \b\b\\ \b\bdone\n",
            "\n",
            "\n",
            "==> WARNING: A newer version of conda exists. <==\n",
            "    current version: 24.11.3\n",
            "    latest version: 25.7.0\n",
            "\n",
            "Please update conda by running\n",
            "\n",
            "    $ conda update -n base -c conda-forge conda\n",
            "\n",
            "\n",
            "\n",
            "# All requested packages already installed.\n",
            "\n"
          ]
        }
      ]
    },
    {
      "cell_type": "code",
      "source": [
        "import pyomo.environ as pyo\n",
        "import gurobipy as gp\n",
        "from pyomo.environ import *"
      ],
      "metadata": {
        "id": "pn4QlERCKMr5"
      },
      "execution_count": 17,
      "outputs": []
    },
    {
      "cell_type": "code",
      "source": [
        "model = pyo.ConcreteModel()\n",
        "\n",
        "model.x = pyo.Var(domain=Integers,bounds=(0, 10))\n",
        "model.y = pyo.Var(bounds=(0, 10))\n",
        "\n",
        "x = model.x\n",
        "y = model.y\n",
        "\n",
        "model.C1 = pyo.Constraint(expr=-x + 2 * y <= 7)\n",
        "model.C2 = pyo.Constraint(expr=2 * x + y <= 14)\n",
        "model.C3 = pyo.Constraint(expr=2 * x - y <= 10)\n",
        "\n",
        "model.obj = pyo.Objective(expr=x + y, sense=maximize)"
      ],
      "metadata": {
        "id": "H_WBeGhpKc34"
      },
      "execution_count": 18,
      "outputs": []
    },
    {
      "cell_type": "code",
      "source": [
        "opt = pyo.SolverFactory('gurobi')\n",
        "opt.solve(model)"
      ],
      "metadata": {
        "colab": {
          "base_uri": "https://localhost:8080/"
        },
        "id": "CjcoRpb6NhpC",
        "outputId": "765a8bb0-d7e5-4b1f-e3e1-e0e2abbb60f8"
      },
      "execution_count": 19,
      "outputs": [
        {
          "output_type": "execute_result",
          "data": {
            "text/plain": [
              "{'Problem': [{'Name': 'x1', 'Lower bound': 9.5, 'Upper bound': 9.5, 'Number of objectives': 1, 'Number of constraints': 3, 'Number of variables': 2, 'Number of binary variables': 0, 'Number of integer variables': 1, 'Number of continuous variables': 1, 'Number of nonzeros': 6, 'Sense': 'maximize'}], 'Solver': [{'Status': 'ok', 'Return code': 0, 'Message': 'Model was solved to optimality (subject to tolerances), and an optimal solution is available.', 'Termination condition': 'optimal', 'Termination message': 'Model was solved to optimality (subject to tolerances), and an optimal solution is available.', 'Wall time': 0.0015270709991455078, 'Error rc': 0}], 'Solution': [OrderedDict([('number of solutions', 0), ('number of solutions displayed', 0)])]}"
            ]
          },
          "metadata": {},
          "execution_count": 19
        }
      ]
    },
    {
      "cell_type": "code",
      "source": [
        "model.pprint()"
      ],
      "metadata": {
        "colab": {
          "base_uri": "https://localhost:8080/"
        },
        "id": "20PpyFU2N9Lm",
        "outputId": "575be6bf-1da6-466e-a20f-0d62fbf15482"
      },
      "execution_count": 20,
      "outputs": [
        {
          "output_type": "stream",
          "name": "stdout",
          "text": [
            "2 Var Declarations\n",
            "    x : Size=1, Index=None\n",
            "        Key  : Lower : Value : Upper : Fixed : Stale : Domain\n",
            "        None :     0 :   4.0 :    10 : False : False : Integers\n",
            "    y : Size=1, Index=None\n",
            "        Key  : Lower : Value : Upper : Fixed : Stale : Domain\n",
            "        None :     0 :   5.5 :    10 : False : False :  Reals\n",
            "\n",
            "1 Objective Declarations\n",
            "    obj : Size=1, Index=None, Active=True\n",
            "        Key  : Active : Sense    : Expression\n",
            "        None :   True : maximize : x + y\n",
            "\n",
            "3 Constraint Declarations\n",
            "    C1 : Size=1, Index=None, Active=True\n",
            "        Key  : Lower : Body      : Upper : Active\n",
            "        None :  -Inf : - x + 2*y :   7.0 :   True\n",
            "    C2 : Size=1, Index=None, Active=True\n",
            "        Key  : Lower : Body    : Upper : Active\n",
            "        None :  -Inf : 2*x + y :  14.0 :   True\n",
            "    C3 : Size=1, Index=None, Active=True\n",
            "        Key  : Lower : Body    : Upper : Active\n",
            "        None :  -Inf : 2*x - y :  10.0 :   True\n",
            "\n",
            "6 Declarations: x y C1 C2 C3 obj\n"
          ]
        }
      ]
    },
    {
      "cell_type": "code",
      "source": [
        "x = pyo.value(model.x)\n",
        "y = pyo.value(model.y)\n",
        "print(\"Optimal Solution:\")\n",
        "print(\"x =\", x)\n",
        "print(\"y =\", y)"
      ],
      "metadata": {
        "colab": {
          "base_uri": "https://localhost:8080/"
        },
        "id": "EOiW-VS5dvdA",
        "outputId": "a9d48013-c818-4071-b431-edb8e841c332"
      },
      "execution_count": 21,
      "outputs": [
        {
          "output_type": "stream",
          "name": "stdout",
          "text": [
            "Optimal Solution:\n",
            "x = 4.0\n",
            "y = 5.5\n"
          ]
        }
      ]
    },
    {
      "cell_type": "code",
      "source": [
        "opt = pyo.SolverFactory('glpk')\n",
        "opt.solve(model)"
      ],
      "metadata": {
        "colab": {
          "base_uri": "https://localhost:8080/"
        },
        "outputId": "2308a9ef-8017-4691-dee0-f23a6c200fd4",
        "id": "Ggo1gTJ5eBqT"
      },
      "execution_count": 22,
      "outputs": [
        {
          "output_type": "execute_result",
          "data": {
            "text/plain": [
              "{'Problem': [{'Name': 'unknown', 'Lower bound': 9.5, 'Upper bound': 9.5, 'Number of objectives': 1, 'Number of constraints': 3, 'Number of variables': 2, 'Number of nonzeros': 6, 'Sense': 'maximize'}], 'Solver': [{'Status': 'ok', 'Termination condition': 'optimal', 'Statistics': {'Branch and bound': {'Number of bounded subproblems': '3', 'Number of created subproblems': '3'}}, 'Error rc': 0, 'Time': 0.004616737365722656}], 'Solution': [OrderedDict([('number of solutions', 0), ('number of solutions displayed', 0)])]}"
            ]
          },
          "metadata": {},
          "execution_count": 22
        }
      ]
    },
    {
      "cell_type": "code",
      "source": [
        "model.pprint()"
      ],
      "metadata": {
        "colab": {
          "base_uri": "https://localhost:8080/"
        },
        "outputId": "a60d282e-80ef-450d-8aef-7742bb5e2bc0",
        "id": "55CE6aSVeBqV"
      },
      "execution_count": 23,
      "outputs": [
        {
          "output_type": "stream",
          "name": "stdout",
          "text": [
            "2 Var Declarations\n",
            "    x : Size=1, Index=None\n",
            "        Key  : Lower : Value : Upper : Fixed : Stale : Domain\n",
            "        None :     0 :   4.0 :    10 : False : False : Integers\n",
            "    y : Size=1, Index=None\n",
            "        Key  : Lower : Value : Upper : Fixed : Stale : Domain\n",
            "        None :     0 :   5.5 :    10 : False : False :  Reals\n",
            "\n",
            "1 Objective Declarations\n",
            "    obj : Size=1, Index=None, Active=True\n",
            "        Key  : Active : Sense    : Expression\n",
            "        None :   True : maximize : x + y\n",
            "\n",
            "3 Constraint Declarations\n",
            "    C1 : Size=1, Index=None, Active=True\n",
            "        Key  : Lower : Body      : Upper : Active\n",
            "        None :  -Inf : - x + 2*y :   7.0 :   True\n",
            "    C2 : Size=1, Index=None, Active=True\n",
            "        Key  : Lower : Body    : Upper : Active\n",
            "        None :  -Inf : 2*x + y :  14.0 :   True\n",
            "    C3 : Size=1, Index=None, Active=True\n",
            "        Key  : Lower : Body    : Upper : Active\n",
            "        None :  -Inf : 2*x - y :  10.0 :   True\n",
            "\n",
            "6 Declarations: x y C1 C2 C3 obj\n"
          ]
        }
      ]
    },
    {
      "cell_type": "code",
      "source": [
        "x = pyo.value(model.x)\n",
        "y = pyo.value(model.y)\n",
        "print(\"Optimal Solution:\")\n",
        "print(\"x =\", x)\n",
        "print(\"y =\", y)"
      ],
      "metadata": {
        "colab": {
          "base_uri": "https://localhost:8080/"
        },
        "outputId": "4892d984-797d-48eb-dd05-3599cbbe99f9",
        "id": "C9SgQh6seBqW"
      },
      "execution_count": 24,
      "outputs": [
        {
          "output_type": "stream",
          "name": "stdout",
          "text": [
            "Optimal Solution:\n",
            "x = 4.0\n",
            "y = 5.5\n"
          ]
        }
      ]
    },
    {
      "cell_type": "markdown",
      "source": [
        "## PuLP - Python Linear Programming"
      ],
      "metadata": {
        "id": "tHeaz2vWj-Q6"
      }
    },
    {
      "cell_type": "code",
      "source": [
        "! pip install cython"
      ],
      "metadata": {
        "colab": {
          "base_uri": "https://localhost:8080/"
        },
        "id": "Ht0WVThbiSEf",
        "outputId": "0e2d0cc5-699e-4c70-ed80-b03e8815a0ec"
      },
      "execution_count": 25,
      "outputs": [
        {
          "output_type": "stream",
          "name": "stdout",
          "text": [
            "Requirement already satisfied: cython in /usr/local/lib/python3.11/site-packages (3.1.3)\n"
          ]
        }
      ]
    },
    {
      "cell_type": "code",
      "source": [
        "! pip install pulp"
      ],
      "metadata": {
        "colab": {
          "base_uri": "https://localhost:8080/"
        },
        "id": "25BFhYdwiZPJ",
        "outputId": "f969a8ce-d503-4a3a-9190-ec914afbafe4"
      },
      "execution_count": 26,
      "outputs": [
        {
          "output_type": "stream",
          "name": "stdout",
          "text": [
            "Requirement already satisfied: pulp in /usr/local/lib/python3.11/site-packages (3.2.2)\n"
          ]
        }
      ]
    },
    {
      "cell_type": "code",
      "source": [
        "import pulp as pl"
      ],
      "metadata": {
        "id": "-ZTyOPGUihBq"
      },
      "execution_count": 27,
      "outputs": []
    },
    {
      "cell_type": "code",
      "source": [
        "model = pl.LpProblem(\"Simple_LP\", pl.LpMaximize)\n",
        "\n",
        "x = pl.LpVariable(\"x\", lowBound=0,upBound=10,cat=pl.LpInteger)\n",
        "y = pl.LpVariable(\"y\", lowBound=0,upBound=10)\n",
        "\n",
        "model += -x + 2 * y <= 7\n",
        "model += 2 * x + y <= 14\n",
        "model += 2 * x - y <= 10\n",
        "\n",
        "model += x + y\n"
      ],
      "metadata": {
        "id": "-RWBzRIuikzH"
      },
      "execution_count": 28,
      "outputs": []
    },
    {
      "cell_type": "code",
      "source": [
        "status = model.solve()\n",
        "print(pl.LpStatus[status])"
      ],
      "metadata": {
        "colab": {
          "base_uri": "https://localhost:8080/"
        },
        "id": "ShTkoo7FjMxA",
        "outputId": "603294bc-dfde-4454-c735-437695b39f3b"
      },
      "execution_count": 29,
      "outputs": [
        {
          "output_type": "stream",
          "name": "stdout",
          "text": [
            "Optimal\n"
          ]
        }
      ]
    },
    {
      "cell_type": "code",
      "source": [
        "x = pl.value(x)\n",
        "y = pl.value(y)\n",
        "print(\"Optimal Solution:\")\n",
        "print(\"x =\", x)\n",
        "print(\"y =\", y)"
      ],
      "metadata": {
        "colab": {
          "base_uri": "https://localhost:8080/"
        },
        "id": "uQ97vFlXjTaa",
        "outputId": "e8f03a86-9ff9-4770-ed45-ed909e7b0905"
      },
      "execution_count": 30,
      "outputs": [
        {
          "output_type": "stream",
          "name": "stdout",
          "text": [
            "Optimal Solution:\n",
            "x = 4.0\n",
            "y = 5.5\n"
          ]
        }
      ]
    },
    {
      "cell_type": "markdown",
      "source": [
        "# Exercise\n",
        "\n",
        "Using Pyomo, find the optimum values of $x_i$ and $y$ to satisfy this Objective Function:   \n",
        "\n",
        "<center>$\\large\\min\\sum\\limits_{i=1}^{5} x_i+y$, subject to:\n",
        "\n",
        "$(a)\\space\\space\\space\\sum\\limits_{i=1}^{5} x_i+y\\le20$\n",
        "\n",
        "$(b)\\space\\space\\space\\space x_i+y\\ge15\\space\\forall i $\n",
        "\n",
        "$(c)\\space\\space\\space\\sum\\limits_{i=1}^{5} (i\\cdot x_i)\\ge10$\n",
        "\n",
        "$(d)\\space\\space\\space\\space x_5+2y\\ge30$\n",
        "\n",
        "$(e)\\space\\space\\space\\space x_i,y\\ge0$\n",
        "\n",
        "$(f)\\space\\space\\space\\space x_i$ is integer $\\forall i$</center>"
      ],
      "metadata": {
        "id": "muxFX0uxdkzl"
      }
    },
    {
      "cell_type": "markdown",
      "source": [
        "#### Import packages"
      ],
      "metadata": {
        "id": "ic0jV3cR-ei1"
      }
    },
    {
      "cell_type": "code",
      "source": [
        "import time, numpy as np\n",
        "import pyomo.environ as pyo\n",
        "from pyomo.environ import *\n",
        "from pyomo.opt import SolverFactory"
      ],
      "metadata": {
        "id": "-SR_xK4m7Ofi"
      },
      "execution_count": 31,
      "outputs": []
    },
    {
      "cell_type": "markdown",
      "source": [
        "#### Specify model and variables"
      ],
      "metadata": {
        "id": "xlRp7eMI8rJ8"
      }
    },
    {
      "cell_type": "code",
      "source": [
        "model = pyo.ConcreteModel()\n",
        "\n",
        "range_i = range(1,6)\n",
        "model.x = pyo.Var(range_i, within=Integers, bounds=(0,None))\n",
        "model.y = pyo.Var(bounds=(0,None))\n",
        "x = model.x   #  shorthand for x\n",
        "y = model.y   #  shorthand for y"
      ],
      "metadata": {
        "id": "CJ8b8IM_7WZf"
      },
      "execution_count": 32,
      "outputs": []
    },
    {
      "cell_type": "markdown",
      "source": [
        "#### Specify constraints"
      ],
      "metadata": {
        "id": "-M5ed1jV8vdI"
      }
    },
    {
      "cell_type": "code",
      "source": [
        "sum_x = sum(x[i] for i in range_i)\n",
        "\n",
        "model.a = pyo.Constraint(expr =sum_x+y<=20)                           # constraint (a)\n",
        "model.b = pyo.ConstraintList()\n",
        "for i in range_i:\n",
        "    model.b.add(expr = x[i]+y>=15)                                    # constraint (b)\n",
        "model.c = pyo.Constraint(expr = sum([i*x[i] for i in range_i]) >= 10) # constraint (c)\n",
        "model.d = pyo.Constraint(expr = x[5]+2*y >= 30)                       # constraint (d)"
      ],
      "metadata": {
        "id": "pInMDvAK700c"
      },
      "execution_count": 33,
      "outputs": []
    },
    {
      "cell_type": "markdown",
      "source": [
        "#### Specify objective"
      ],
      "metadata": {
        "id": "bZ0ZFIDO9PN7"
      }
    },
    {
      "cell_type": "code",
      "source": [
        "model.obj = pyo.Objective(expr = sum_x+y, sense=minimize)\n"
      ],
      "metadata": {
        "id": "iobs8-0k82Ea"
      },
      "execution_count": 34,
      "outputs": []
    },
    {
      "cell_type": "markdown",
      "source": [
        "#### Solve the system of equations"
      ],
      "metadata": {
        "id": "LWt__KP29otK"
      }
    },
    {
      "cell_type": "code",
      "source": [
        "begin = time.time()\n",
        "opt = SolverFactory('gurobi')\n",
        "opt.solve(model)\n",
        "\n",
        "deltaT = time.time() - begin\n",
        "\n",
        "model.pprint()"
      ],
      "metadata": {
        "colab": {
          "base_uri": "https://localhost:8080/"
        },
        "id": "Lqpm53979UR7",
        "outputId": "70f39dbb-ead2-4798-cf42-e0e727551271"
      },
      "execution_count": 35,
      "outputs": [
        {
          "output_type": "stream",
          "name": "stdout",
          "text": [
            "2 Var Declarations\n",
            "    x : Size=5, Index={1, 2, 3, 4, 5}\n",
            "        Key : Lower : Value : Upper : Fixed : Stale : Domain\n",
            "          1 :     0 :   0.0 :  None : False : False : Integers\n",
            "          2 :     0 :  -0.0 :  None : False : False : Integers\n",
            "          3 :     0 :  -0.0 :  None : False : False : Integers\n",
            "          4 :     0 :  -0.0 :  None : False : False : Integers\n",
            "          5 :     0 :   2.0 :  None : False : False : Integers\n",
            "    y : Size=1, Index=None\n",
            "        Key  : Lower : Value : Upper : Fixed : Stale : Domain\n",
            "        None :     0 :  15.0 :  None : False : False :  Reals\n",
            "\n",
            "1 Objective Declarations\n",
            "    obj : Size=1, Index=None, Active=True\n",
            "        Key  : Active : Sense    : Expression\n",
            "        None :   True : minimize : x[1] + x[2] + x[3] + x[4] + x[5] + y\n",
            "\n",
            "4 Constraint Declarations\n",
            "    a : Size=1, Index=None, Active=True\n",
            "        Key  : Lower : Body                                 : Upper : Active\n",
            "        None :  -Inf : x[1] + x[2] + x[3] + x[4] + x[5] + y :  20.0 :   True\n",
            "    b : Size=5, Index={1, 2, 3, 4, 5}, Active=True\n",
            "        Key : Lower : Body     : Upper : Active\n",
            "          1 :  15.0 : x[1] + y :  +Inf :   True\n",
            "          2 :  15.0 : x[2] + y :  +Inf :   True\n",
            "          3 :  15.0 : x[3] + y :  +Inf :   True\n",
            "          4 :  15.0 : x[4] + y :  +Inf :   True\n",
            "          5 :  15.0 : x[5] + y :  +Inf :   True\n",
            "    c : Size=1, Index=None, Active=True\n",
            "        Key  : Lower : Body                                     : Upper : Active\n",
            "        None :  10.0 : x[1] + 2*x[2] + 3*x[3] + 4*x[4] + 5*x[5] :  +Inf :   True\n",
            "    d : Size=1, Index=None, Active=True\n",
            "        Key  : Lower : Body       : Upper : Active\n",
            "        None :  30.0 : x[5] + 2*y :  +Inf :   True\n",
            "\n",
            "7 Declarations: x y a b c d obj\n"
          ]
        }
      ]
    },
    {
      "cell_type": "markdown",
      "source": [
        "#### Output the results"
      ],
      "metadata": {
        "id": "l7ABN7PX96re"
      }
    },
    {
      "cell_type": "code",
      "source": [
        "print('Time =', np.round(deltaT,2))\n",
        "\n",
        "for i in range(1,6):\n",
        "    print('x[%i] = %i' % (i, pyo.value(x[i])))\n",
        "print('y = %.2f' % pyo.value(y))\n",
        "print('Obj = ', pyo.value(model.obj))"
      ],
      "metadata": {
        "colab": {
          "base_uri": "https://localhost:8080/"
        },
        "id": "tO_V835A9169",
        "outputId": "c355f9d5-eac2-4fc1-a2da-6dcc9a82c306"
      },
      "execution_count": 36,
      "outputs": [
        {
          "output_type": "stream",
          "name": "stdout",
          "text": [
            "Time = 0.01\n",
            "x[1] = 0\n",
            "x[2] = 0\n",
            "x[3] = 0\n",
            "x[4] = 0\n",
            "x[5] = 2\n",
            "y = 15.00\n",
            "Obj =  17.0\n"
          ]
        }
      ]
    }
  ]
}