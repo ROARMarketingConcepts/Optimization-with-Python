{
  "nbformat": 4,
  "nbformat_minor": 0,
  "metadata": {
    "colab": {
      "provenance": []
    },
    "kernelspec": {
      "name": "python3",
      "display_name": "Python 3"
    },
    "language_info": {
      "name": "python"
    }
  },
  "cells": [
    {
      "cell_type": "markdown",
      "source": [
        "## Exercise - Gandhi Clothing Company"
      ],
      "metadata": {
        "id": "Jv9Ao9fmQmuH"
      }
    },
    {
      "cell_type": "markdown",
      "source": [
        "Manufacture shirts, shorts and pants.\n",
        "\n",
        "Shirts - $200 per week machinery, 3 hours labor, 4 sq. yards of cloth\n",
        "\n",
        "Shorts - $150 per week machinery, 2 hours labor, 3 sq. yards of cloth\n",
        "\n",
        "Pants - $100 per week machinery, 6 hours labor 4 sq. yards of cloth\n",
        "\n",
        "The profit equation is:\n",
        "\n",
        "<center> $ \\max Profit = \\max (\\sum_iPrice_{i} \\times x_{i} - \\sum Variable Costs_i  \\times x_i -\\sum Fixed Costs_i \\times b_i), \\space\\space\\space\\space b_{i}$ is binary variable\n",
        "\n",
        "$s.t.$\n",
        "\n",
        "$\\sum Labor_{i} \\times x_{i} \\le 150$\n",
        "\n",
        "$\\sum Cloth_{i} \\times x_{i} \\le 160$\n",
        "\n",
        "$ x_i \\le M_i \\times b_i$\n",
        "\n",
        "where $M_i$ is the maximum amount of clothing item $i$ that can  be made within the total cloth constraint (160 yards).\n",
        "\n",
        "$x_i \\ge 0 \\space\\space\\space \\forall i$"
      ],
      "metadata": {
        "id": "hGiH7zeCQ9AE"
      }
    },
    {
      "cell_type": "code",
      "source": [
        "! pip install -q pyomo\n",
        "! pip install cplex -q\n",
        "!apt-get install -y -qq coinor-cbc"
      ],
      "metadata": {
        "id": "QU4RWsXHuZFy"
      },
      "execution_count": null,
      "outputs": []
    },
    {
      "cell_type": "code",
      "source": [
        "import pandas as pd\n",
        "\n",
        "\n",
        "# Load the Excel file\n",
        "xls = pd.ExcelFile('/content/drive/MyDrive/Colab Notebooks/Optimization with Python/Linear Programming/Gandhi_Clothing.xlsx')\n",
        "\n",
        "# Read each sheet\n",
        "df = xls.parse('grid')"
      ],
      "metadata": {
        "id": "qFCt_uWhf7Ss"
      },
      "execution_count": null,
      "outputs": []
    },
    {
      "cell_type": "code",
      "source": [
        "# Extract sets\n",
        "\n",
        "param_dict = {}\n",
        "\n",
        "for i in range(len(df.columns)):\n",
        "  param_dict[df.columns[i]] = df.iloc[:,i].tolist()\n",
        "\n",
        "param_dict"
      ],
      "metadata": {
        "colab": {
          "base_uri": "https://localhost:8080/"
        },
        "id": "CJAb9efxnME6",
        "outputId": "7c07cf6d-aa9e-47f0-825e-c57452b053b0"
      },
      "execution_count": null,
      "outputs": [
        {
          "output_type": "execute_result",
          "data": {
            "text/plain": [
              "{'Item': [0, 1, 2],\n",
              " 'Price': [12, 8, 15],\n",
              " 'cost': [6, 4, 8],\n",
              " 'labor hours': [3, 2, 6],\n",
              " 'cloth': [4, 3, 4],\n",
              " 'Machine': [200, 150, 100],\n",
              " 'Maximum': [40, 53, 40]}"
            ]
          },
          "metadata": {},
          "execution_count": 19
        }
      ]
    },
    {
      "cell_type": "markdown",
      "source": [
        "Set up parameters for each clothing type"
      ],
      "metadata": {
        "id": "0QhZ9Kn_k_5u"
      }
    },
    {
      "cell_type": "code",
      "source": [
        "from pyomo.environ import *\n",
        "\n",
        "model = ConcreteModel()\n",
        "\n",
        "# Define set of clothing types\n",
        "model.item = Set(initialize=param_dict['Item'])  #  {0: 'Shirts , 1: 'Shorts', 2: 'Pants'}\n",
        "\n",
        "model.price = Param(model.item, initialize=dict(zip(param_dict['Item'], param_dict['Price'])))\n",
        "model.labor = Param(model.item, initialize=dict(zip(param_dict['Item'], param_dict['labor hours']))) # 'labor hours'\n",
        "model.cloth = Param(model.item, initialize=dict(zip(param_dict['Item'], param_dict['cloth']))) # 'cloth'\n",
        "model.variable_cost = Param(model.item, initialize=dict(zip(param_dict['Item'], param_dict['cost'])))\n",
        "model.fixed_cost = Param(model.item, initialize=dict(zip(param_dict['Item'], param_dict['Machine'])))\n",
        "model.maximum = Param(model.item, initialize=dict(zip(param_dict['Item'], param_dict['Maximum'])))\n",
        "\n",
        "price = model.price\n",
        "labor = model.labor\n",
        "cloth = model.cloth\n",
        "variable_cost = model.variable_cost\n",
        "fixed_cost = model.fixed_cost\n",
        "maximum = model.maximum\n",
        "\n",
        "model.x = Var(model.item, domain=NonNegativeIntegers, initialize = dict(zip(param_dict['Item'], param_dict['Maximum'])))\n",
        "model.b = Var(model.item, domain=Binary) # Define binary variable b"
      ],
      "metadata": {
        "id": "MOMEhMBU_cRo"
      },
      "execution_count": null,
      "outputs": []
    },
    {
      "cell_type": "code",
      "source": [
        "def net_profit(model):\n",
        "    return sum(model.price[i] * model.x[i] for i in model.item) - sum(model.variable_cost[i] * model.x[i] for i in model.item) - sum(model.fixed_cost[i] * model.b[i] for i in model.item)\n",
        "\n",
        "model.obj = Objective(rule=net_profit, sense=maximize)"
      ],
      "metadata": {
        "id": "nZMBwXmWjGfU"
      },
      "execution_count": null,
      "outputs": []
    },
    {
      "cell_type": "markdown",
      "source": [
        "Define constraints"
      ],
      "metadata": {
        "id": "DzLqaYBklxzm"
      }
    },
    {
      "cell_type": "code",
      "source": [
        "def labor_constraint(model):\n",
        "    return sum(model.labor[i] * model.x[i] for i in model.item) <= 150\n",
        "\n",
        "model.labor_constraint = Constraint(rule=labor_constraint)"
      ],
      "metadata": {
        "id": "Awb59SMNl0KE"
      },
      "execution_count": null,
      "outputs": []
    },
    {
      "cell_type": "code",
      "source": [
        "def cloth_constraint(model):\n",
        "    return sum(model.cloth[i] * model.x[i] for i in model.item) <= 160\n",
        "\n",
        "model.cloth_constraint = Constraint(rule=cloth_constraint)"
      ],
      "metadata": {
        "id": "HWYFrgPfl9so"
      },
      "execution_count": null,
      "outputs": []
    },
    {
      "cell_type": "code",
      "source": [
        "def maximum_constraint(model, i):\n",
        "    return model.x[i] <= model.maximum[i] * model.b[i]\n",
        "\n",
        "model.maximum_constraint = Constraint(model.item, rule=maximum_constraint)"
      ],
      "metadata": {
        "id": "rowX0nSG8VYM"
      },
      "execution_count": null,
      "outputs": []
    },
    {
      "cell_type": "code",
      "source": [
        "solver = SolverFactory('cbc')  # cbc solver\n",
        "results = solver.solve(model)"
      ],
      "metadata": {
        "id": "UDk-67JMmDes"
      },
      "execution_count": null,
      "outputs": []
    },
    {
      "cell_type": "markdown",
      "source": [
        "Print out model results"
      ],
      "metadata": {
        "id": "8g3WPCPx_dth"
      }
    },
    {
      "cell_type": "code",
      "source": [
        "print(results)\n",
        "print(\"Objective function = \", model.obj())\n",
        "for i in model.item:\n",
        "  print(f\"Number of {i} = \", model.x[i]())"
      ],
      "metadata": {
        "colab": {
          "base_uri": "https://localhost:8080/"
        },
        "id": "QrUsNqOQ_gus",
        "outputId": "6d43586d-cb68-4ba1-c9b0-e95b9593a1e5"
      },
      "execution_count": null,
      "outputs": [
        {
          "output_type": "stream",
          "name": "stdout",
          "text": [
            "\n",
            "Problem: \n",
            "- Name: unknown\n",
            "  Lower bound: 75.0\n",
            "  Upper bound: 75.0\n",
            "  Number of objectives: 1\n",
            "  Number of constraints: 5\n",
            "  Number of variables: 6\n",
            "  Number of binary variables: 3\n",
            "  Number of integer variables: 6\n",
            "  Number of nonzeros: 6\n",
            "  Sense: maximize\n",
            "Solver: \n",
            "- Status: ok\n",
            "  User time: -1.0\n",
            "  System time: 0.02\n",
            "  Wallclock time: 0.02\n",
            "  Termination condition: optimal\n",
            "  Termination message: Model was solved to optimality (subject to tolerances), and an optimal solution is available.\n",
            "  Statistics: \n",
            "    Branch and bound: \n",
            "      Number of bounded subproblems: 0\n",
            "      Number of created subproblems: 0\n",
            "    Black box: \n",
            "      Number of iterations: 0\n",
            "  Error rc: 0\n",
            "  Time: 0.040045738220214844\n",
            "Solution: \n",
            "- number of solutions: 0\n",
            "  number of solutions displayed: 0\n",
            "\n",
            "Objective function =  75.0\n",
            "Number of 0 =  0.0\n",
            "Number of 1 =  0.0\n",
            "Number of 2 =  25.0\n"
          ]
        }
      ]
    }
  ]
}