{
  "nbformat": 4,
  "nbformat_minor": 0,
  "metadata": {
    "colab": {
      "provenance": []
    },
    "kernelspec": {
      "name": "python3",
      "display_name": "Python 3"
    },
    "language_info": {
      "name": "python"
    }
  },
  "cells": [
    {
      "cell_type": "markdown",
      "source": [
        "Oilco must determine how many barrels of oil to extract during each of the next 2 years. If Oilco extracts $x_1$ million barrels during Year 1, then each barrel can be sold for $30-x_1$ dollars. If Oilco extracts $x_2$ million barrels during Year 2, then each barrel can be sold for $35-x_2$ dollars. The cost of extracting $x_1$ barrels in Year 1 is $x_1^2$ million dollars and the cost of extracting $x_2$ barrels in Year 2 is $2x_2^2$ million dollars. A total of 20 million barrels are available and a max of $250 million can be spent on extraction. Formulate a MINLP problem to help Oilco maximize profits (revenue - costs) for the next 2 years."
      ],
      "metadata": {
        "id": "2QRYlAtwlVtE"
      }
    },
    {
      "cell_type": "markdown",
      "source": [
        "Profit = Revenue-Cost\n",
        "\n",
        "<center>\n",
        "\n",
        "$\\max \\left[x_1(30-x_1)+x_2(35-x_2)-(x_1^2+2x_2^2)\\right]=$\n",
        "\n",
        "$\\max \\left[30x_1-x_1^2+35x_2-x_2^2-x_1^2-2x_2^2\\right]=$\n",
        "\n",
        "$\\max \\left[-2x_1^2-3x_2^2+30x_1+35x_2\\right]$</center>"
      ],
      "metadata": {
        "id": "h_XGX3eDnCNs"
      }
    },
    {
      "cell_type": "markdown",
      "source": [
        "subject to:\n",
        "\n",
        "\n",
        "<center>\n",
        "\n",
        "$x_1+x_2 \\le 20$\n",
        "\n",
        "$x_1^2+2x_2^2\\le250$\n",
        "\n",
        "$x_1,x_2$ are integers</center>\n"
      ],
      "metadata": {
        "id": "CGu2lrJ7Oewv"
      }
    },
    {
      "cell_type": "code",
      "execution_count": 9,
      "metadata": {
        "colab": {
          "base_uri": "https://localhost:8080/"
        },
        "collapsed": true,
        "id": "eHk-j0EMEfz1",
        "outputId": "7dc78323-8d02-4aca-9ebd-cd60fc806608"
      },
      "outputs": [
        {
          "output_type": "stream",
          "name": "stdout",
          "text": [
            "--2025-08-21 18:06:16--  https://raw.githubusercontent.com/IDAES/idaes-pse/main/scripts/colab_helper.py\n",
            "Resolving raw.githubusercontent.com (raw.githubusercontent.com)... 185.199.111.133, 185.199.109.133, 185.199.110.133, ...\n",
            "Connecting to raw.githubusercontent.com (raw.githubusercontent.com)|185.199.111.133|:443... connected.\n",
            "HTTP request sent, awaiting response... 200 OK\n",
            "Length: 5459 (5.3K) [text/plain]\n",
            "Saving to: ‘colab_helper.py.1’\n",
            "\n",
            "colab_helper.py.1   100%[===================>]   5.33K  --.-KB/s    in 0s      \n",
            "\n",
            "2025-08-21 18:06:16 (55.8 MB/s) - ‘colab_helper.py.1’ saved [5459/5459]\n",
            "\n",
            "idaes was found! No need to install.\n"
          ]
        }
      ],
      "source": [
        "# Ipopt installer\n",
        "\n",
        "import sys\n",
        "\n",
        "if \"google.colab\" in sys.modules:\n",
        "    !wget \"https://raw.githubusercontent.com/IDAES/idaes-pse/main/scripts/colab_helper.py\"\n",
        "    import colab_helper\n",
        "    colab_helper.install_idaes()\n",
        "    colab_helper.install_ipopt()"
      ]
    },
    {
      "cell_type": "code",
      "source": [
        "import pyomo.environ as pyo"
      ],
      "metadata": {
        "id": "m0Hf-w0GGNcC"
      },
      "execution_count": 10,
      "outputs": []
    },
    {
      "cell_type": "markdown",
      "source": [
        "We'll start with linear programming problem to be solved by a non-linear optimizer, `ipopt`."
      ],
      "metadata": {
        "id": "uU9VgwzvI5Bh"
      }
    },
    {
      "cell_type": "code",
      "source": [
        "model = pyo.ConcreteModel()\n",
        "\n",
        "model.x1 = pyo.Var(bounds=(0, None), within=pyo.Integers)\n",
        "model.x2 = pyo.Var(bounds=(0, None),within=pyo.Integers)\n",
        "\n",
        "x1 = model.x1\n",
        "x2 = model.x2\n",
        "\n",
        "model.C1 = pyo.Constraint(expr=x1 + x2 <= 20)\n",
        "model.C2 = pyo.Constraint(expr=x1**2 + 2*(x2**2) <= 250)\n",
        "\n",
        "\n",
        "model.obj = pyo.Objective(expr=-2*(x1**2)-3*(x2**2)+30*x1+35*x2, sense=pyo.maximize)"
      ],
      "metadata": {
        "id": "0Zh2lapCGbQR"
      },
      "execution_count": 23,
      "outputs": []
    },
    {
      "cell_type": "code",
      "source": [
        "opt = pyo.SolverFactory('mindtpy')\n",
        "opt.solve(model, mip_solver='cbc')"
      ],
      "metadata": {
        "colab": {
          "base_uri": "https://localhost:8080/"
        },
        "id": "tN_r3iujIJvg",
        "outputId": "579e97d5-aca0-474e-eae5-791998c8cdd4"
      },
      "execution_count": 24,
      "outputs": [
        {
          "output_type": "execute_result",
          "data": {
            "text/plain": [
              "{'Problem': [{'Name': 'unknown', 'Lower bound': 214.0000068524824, 'Upper bound': 214.0, 'Number of objectives': 1, 'Number of constraints': 2, 'Number of variables': 2, 'Number of binary variables': 0, 'Number of integer variables': 2, 'Number of continuous variables': 0, 'Number of nonzeros': None, 'Sense': 'maximize', 'Number of disjunctions': 0}], 'Solver': [{'Name': 'MindtPyOA', 'Status': 'ok', 'Message': None, 'User time': 0.21395240200035914, 'Wallclock time': 0.21395240200035914, 'Termination condition': 'optimal', 'Termination message': None, 'Timing': Bunch(Call after main solve = 2.4934000066423323e-05, Call after subproblem solve = 1.3009000213060062e-05, Call before subproblem solve = 1.0086000202136347e-05, OA cut generation = 0.0026232479995087488, fixed subproblem = 0.06324624499939091, initialization = 0.02199740500009284, main = 0.1025815899997724, main loop = 0.18017822699994213, main_timer_start_time = 2341.350318428, total = 0.21395240200035914), 'Iterations': 5, 'Num infeasible nlp subproblem': 0, 'Best solution found time': 0.19227020000016637, 'Primal integral': 3.921466146094522, 'Dual integral': 0.09860624352666236, 'Primal dual gap integral': 4.020072389621184}]}"
            ]
          },
          "metadata": {},
          "execution_count": 24
        }
      ]
    },
    {
      "cell_type": "code",
      "source": [
        "model.pprint()"
      ],
      "metadata": {
        "colab": {
          "base_uri": "https://localhost:8080/"
        },
        "collapsed": true,
        "id": "wviXKCpsIUE6",
        "outputId": "840d02a4-f141-4ce6-e496-2cbb2af760a8"
      },
      "execution_count": 25,
      "outputs": [
        {
          "output_type": "stream",
          "name": "stdout",
          "text": [
            "2 Var Declarations\n",
            "    x1 : Size=1, Index=None\n",
            "        Key  : Lower : Value : Upper : Fixed : Stale : Domain\n",
            "        None :     0 :   8.0 :  None : False : False : Integers\n",
            "    x2 : Size=1, Index=None\n",
            "        Key  : Lower : Value : Upper : Fixed : Stale : Domain\n",
            "        None :     0 :   6.0 :  None : False : False : Integers\n",
            "\n",
            "1 Objective Declarations\n",
            "    obj : Size=1, Index=None, Active=True\n",
            "        Key  : Active : Sense    : Expression\n",
            "        None :   True : maximize : -2*x1**2 - 3*x2**2 + 30*x1 + 35*x2\n",
            "\n",
            "2 Constraint Declarations\n",
            "    C1 : Size=1, Index=None, Active=True\n",
            "        Key  : Lower : Body    : Upper : Active\n",
            "        None :  -Inf : x1 + x2 :  20.0 :   True\n",
            "    C2 : Size=1, Index=None, Active=True\n",
            "        Key  : Lower : Body            : Upper : Active\n",
            "        None :  -Inf : x1**2 + 2*x2**2 : 250.0 :   True\n",
            "\n",
            "5 Declarations: x1 x2 C1 C2 obj\n"
          ]
        }
      ]
    },
    {
      "cell_type": "code",
      "source": [
        "\n",
        "x1_value = pyo.value(x1)\n",
        "x2_value = pyo.value(x2)\n",
        "print(\"x1 =\", x1_value)\n",
        "print(\"x2 =\", x2_value)\n",
        "print(\"Profit =\", model.obj())"
      ],
      "metadata": {
        "colab": {
          "base_uri": "https://localhost:8080/"
        },
        "id": "bOiPI41RIZR9",
        "outputId": "9370fd00-23b2-43ce-bf99-b78ef7304ac1"
      },
      "execution_count": 26,
      "outputs": [
        {
          "output_type": "stream",
          "name": "stdout",
          "text": [
            "x1 = 8.0\n",
            "x2 = 6.0\n",
            "Profit = 214.0\n"
          ]
        }
      ]
    }
  ]
}